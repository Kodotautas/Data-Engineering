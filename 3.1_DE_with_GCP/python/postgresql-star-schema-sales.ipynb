{
 "cells": [
  {
   "cell_type": "markdown",
   "id": "372be876", 
   "metadata": {},
   "source": [
    "# Demo : Star Schema (Sales)\n",
    "\n",
    "Implementation demo for star schema sales.\n",
    "\n",
    "<img src=\"img/postgresql-star-schema-diagram.png\" align=\"left\" width=\"500\"/>"
   ]
  },
  {
   "cell_type": "markdown",
   "id": "eb9b63c0",
   "metadata": {},
   "source": [
    "Import libraries.\n",
    "I use pandas (optional) just for display rows and matplotlib for visualization sample.  \n",
    "If needed, follow [pandas installation instruction](https://pandas.pydata.org/docs/getting_started/install.html) and [matplotlib installation instruction](https://matplotlib.org/stable/users/installing.html)"
   ]
  },
  {
   "cell_type": "code",
   "execution_count": null,
   "id": "45f99869",
   "metadata": {},
   "outputs": [],
   "source": [
    "import pandas as pd\n",
    "import psycopg2\n",
    "import matplotlib.pyplot as plt"
   ]
  },
  {
   "cell_type": "markdown",
   "id": "2b177022",
   "metadata": {},
   "source": [
    "Open connection"
   ]
  },
  {
   "cell_type": "code",
   "execution_count": null,
   "id": "2ecb9122",
   "metadata": {},
   "outputs": [],
   "source": [
    "try:\n",
    "    conn = psycopg2.connect(\"host=34.101.229.192 dbname=postgres user=postgres password=CourseDE888\")\n",
    "    conn.set_session(autocommit=True)\n",
    "    \n",
    "    cur = conn.cursor()\n",
    "except Exception as e: \n",
    "    print(\"Error: cannot open cursor for SQL interaction\")\n",
    "    print(e)"
   ]
  },
  {
   "cell_type": "markdown",
   "id": "af42b54f",
   "metadata": {},
   "source": [
    "### Create fact & dimension tables"
   ]
  },
  {
   "cell_type": "markdown",
   "id": "af57d00c",
   "metadata": {},
   "source": [
    "Cleanup tables"
   ]
  },
  {
   "cell_type": "code",
   "execution_count": null,
   "id": "9275a841",
   "metadata": {},
   "outputs": [],
   "source": [
    "tables = [\"dim_date\", \"dim_store\", \"dim_employee\", \"dim_product\", \"dim_customer\", \"fact_sales\"]"
   ]
  },
  {
   "cell_type": "code",
   "execution_count": null,
   "id": "cfd974bc",
   "metadata": {},
   "outputs": [],
   "source": [
    "for tbl in tables:\n",
    "    cur.execute(\"DROP TABLE IF EXISTS {} CASCADE\".format(tbl))"
   ]
  },
  {
   "cell_type": "markdown",
   "id": "77a0c37f",
   "metadata": {},
   "source": [
    "Create dimension tables"
   ]
  },
  {
   "cell_type": "code",
   "execution_count": null,
   "id": "6dcbf42a",
   "metadata": {},
   "outputs": [],
   "source": [
    "cur.execute('''\n",
    "    CREATE TABLE IF NOT EXISTS dim_date(\n",
    "        date_id integer PRIMARY key,\n",
    "        \"date\" SMALLINT,\n",
    "        \"month\" SMALLINT,\n",
    "        \"year\" SMALLINT,\n",
    "        day_of_week varchar,\n",
    "        \"quarter\" SMALLINT\n",
    ")\n",
    "''')\n",
    "\n",
    "cur.execute(\"\"\"\n",
    "    CREATE TABLE IF NOT EXISTS dim_store(\n",
    "        store_id integer PRIMARY key,\n",
    "        store_name varchar,\n",
    "        city varchar,\n",
    "        region varchar,\n",
    "        country varchar\n",
    "    )\n",
    "\"\"\")\n",
    "\n",
    "cur.execute(\"\"\"\n",
    "    CREATE TABLE IF NOT EXISTS dim_store(\n",
    "        store_id integer PRIMARY key,\n",
    "        store_name varchar,\n",
    "        city varchar,\n",
    "        region varchar,\n",
    "        country varchar\n",
    "    )\n",
    "\"\"\")\n",
    "\n",
    "cur.execute(\"\"\"\n",
    "    CREATE TABLE IF NOT EXISTS dim_employee(\n",
    "        employee_id integer PRIMARY key,\n",
    "        employee_number varchar,\n",
    "        employee_name varchar,\n",
    "        \"position\" varchar\n",
    "    )\n",
    "\"\"\")\n",
    "\n",
    "cur.execute(\"\"\"\n",
    "    CREATE TABLE IF NOT EXISTS dim_product(\n",
    "        product_id integer PRIMARY key,\n",
    "        product_name varchar,\n",
    "        category varchar,\n",
    "        brand varchar\n",
    "    )\n",
    "\"\"\")\n",
    "\n",
    "cur.execute(\"\"\"\n",
    "    CREATE TABLE IF NOT EXISTS dim_customer(\n",
    "        customer_id integer PRIMARY key,\n",
    "        is_member boolean,\n",
    "        member_card_number varchar,\n",
    "        customer_name varchar,\n",
    "        phone varchar,\n",
    "        email varchar\n",
    "    )\n",
    "\"\"\")"
   ]
  },
  {
   "cell_type": "markdown",
   "id": "fdf1cb41",
   "metadata": {},
   "source": [
    "Create fact table"
   ]
  },
  {
   "cell_type": "code",
   "execution_count": null,
   "id": "6320ab60",
   "metadata": {},
   "outputs": [],
   "source": [
    "cur.execute(\"\"\"\n",
    "    CREATE TABLE IF NOT EXISTS fact_sales(\n",
    "        sales_id integer,\n",
    "        date_id integer REFERENCES dim_date(date_id),\n",
    "        store_id integer REFERENCES dim_store(store_id),\n",
    "        employee_id integer REFERENCES dim_employee(employee_id),\n",
    "        product_id integer REFERENCES dim_product(product_id),\n",
    "        customer_id integer REFERENCES dim_customer,\n",
    "        quantity integer NOT NULL,\n",
    "        price real NOT NULL,\n",
    "        discount_rate real NOT NULL DEFAULT 0\n",
    "    )\n",
    "\"\"\")"
   ]
  },
  {
   "cell_type": "markdown",
   "id": "96376438",
   "metadata": {},
   "source": [
    "### Import sample data from csv"
   ]
  },
  {
   "cell_type": "code",
   "execution_count": null,
   "id": "1fdb492e",
   "metadata": {},
   "outputs": [],
   "source": [
    "for tbl in tables:\n",
    "    with open(\"data/star_{}.csv\".format(tbl), \"r\") as f:\n",
    "        next(f) # Skip the header row.\n",
    "        cur.copy_from(f, tbl, sep=',')"
   ]
  },
  {
   "cell_type": "markdown",
   "id": "f6812e1c",
   "metadata": {},
   "source": [
    "### Query Sample"
   ]
  },
  {
   "cell_type": "markdown",
   "id": "e029bb8d",
   "metadata": {},
   "source": [
    "Sample for dimension table content."
   ]
  },
  {
   "cell_type": "code",
   "execution_count": null,
   "id": "91318a1c",
   "metadata": {},
   "outputs": [],
   "source": [
    "pd.read_sql(\"SELECT * FROM dim_date\", con=conn).sample(5).sort_index()"
   ]
  },
  {
   "cell_type": "code",
   "execution_count": null,
   "id": "7ce71494",
   "metadata": {},
   "outputs": [],
   "source": [
    "pd.read_sql(\"SELECT * FROM dim_store\", con=conn).sample(5).sort_index()"
   ]
  },
  {
   "cell_type": "markdown",
   "id": "a0b65e7c",
   "metadata": {},
   "source": [
    "The fact table content sample."
   ]
  },
  {
   "cell_type": "code",
   "execution_count": null,
   "id": "91b6db39",
   "metadata": {},
   "outputs": [],
   "source": [
    "pd.read_sql(\"SELECT * FROM fact_sales\", con=conn).sample(5).sort_index()"
   ]
  },
  {
   "cell_type": "markdown",
   "id": "f46a54d2",
   "metadata": {},
   "source": [
    "Get gross revenue for each product in store, and sort from most revenue.  \n",
    "Using pandas only for neater display, not mandatory requirement."
   ]
  },
  {
   "cell_type": "code",
   "execution_count": null,
   "id": "88da781e",
   "metadata": {},
   "outputs": [],
   "source": [
    "sql = \"\"\"\n",
    "    SELECT\n",
    "        store.store_name,\n",
    "        store.city,\n",
    "        store.region,\n",
    "        product.product_name,\n",
    "        sum(sales.quantity) quantity_sold,\n",
    "        round(\n",
    "            CAST(\n",
    "                sum(sales.quantity * sales.price * (100 - sales.discount_rate) / 100) \n",
    "                AS NUMERIC), \n",
    "            2) product_gross_revenue\n",
    "    FROM\n",
    "        fact_sales sales\n",
    "    INNER JOIN dim_store store \n",
    "           ON\n",
    "        sales.store_id = store.store_id\n",
    "    INNER JOIN dim_product product\n",
    "           ON\n",
    "        sales.product_id = product.product_id\n",
    "    GROUP BY\n",
    "        store.store_name,\n",
    "        store.city,\n",
    "        store.region,\n",
    "        product.product_name\n",
    "    ORDER BY\n",
    "        product_gross_revenue DESC\n",
    "\"\"\"\n",
    "\n",
    "gross_revenues = pd.read_sql(sql, con=conn)\n",
    "gross_revenues.head()"
   ]
  },
  {
   "cell_type": "markdown",
   "id": "4cfda157",
   "metadata": {},
   "source": [
    "Get employee sales performance."
   ]
  },
  {
   "cell_type": "code",
   "execution_count": null,
   "id": "1d8593ba",
   "metadata": {},
   "outputs": [],
   "source": [
    "sql = \"\"\"\n",
    "    SELECT\n",
    "        emp.employee_number,\n",
    "        emp.employee_name,\n",
    "        product.brand,\n",
    "        sum(sales.quantity) quantity_sold,\n",
    "        round(\n",
    "            CAST(\n",
    "                sum(sales.quantity * sales.price * (100 - sales.discount_rate) / 100) \n",
    "                AS NUMERIC), \n",
    "            2) product_gross_revenue\n",
    "    FROM\n",
    "        fact_sales sales\n",
    "    INNER JOIN dim_employee emp\n",
    "           ON\n",
    "        sales.employee_id = emp.employee_id\n",
    "    INNER JOIN dim_product product\n",
    "           ON\n",
    "        sales.product_id = product.product_id\n",
    "    GROUP BY\n",
    "        product.brand,\n",
    "        emp.employee_number,\n",
    "        emp.employee_name    \n",
    "    ORDER BY\n",
    "        employee_name\n",
    "\"\"\"\n",
    "\n",
    "emp_brand_revenues = pd.read_sql(sql, con=conn)\n",
    "emp_brand_revenues.head()"
   ]
  },
  {
   "cell_type": "markdown",
   "id": "aa4569b3",
   "metadata": {},
   "source": [
    "Get all data combination."
   ]
  },
  {
   "cell_type": "code",
   "execution_count": null,
   "id": "6087eab6",
   "metadata": {},
   "outputs": [],
   "source": [
    "sql = \"\"\"\n",
    "    SELECT\n",
    "        sales.sales_id,\n",
    "        store.store_name,\n",
    "        store.city,\n",
    "        store.region,\n",
    "        store.country,\n",
    "        dim_date.date,\n",
    "        dim_date.MONTH,\n",
    "        dim_date.YEAR,\n",
    "        dim_date.day_of_week,\n",
    "        dim_date.quarter,\n",
    "        emp.employee_number,\n",
    "        emp.employee_name,\n",
    "        emp.position,\n",
    "        product.product_name,\n",
    "        product.category,\n",
    "        product.brand,\n",
    "        cust.is_member,\n",
    "        cust.member_card_number,\n",
    "        cust.customer_name,\n",
    "        cust.phone,\n",
    "        cust.email,\n",
    "        sales.quantity,\n",
    "        sales.price,\n",
    "        sales.discount_rate\n",
    "    FROM\n",
    "        fact_sales sales\n",
    "    INNER JOIN dim_store store \n",
    "           ON\n",
    "        sales.store_id = store.store_id\n",
    "    INNER JOIN dim_date dim_date\n",
    "           ON\n",
    "        sales.date_id = dim_date.date_id\n",
    "    INNER JOIN dim_employee emp\n",
    "           ON\n",
    "        sales.employee_id = emp.employee_id\n",
    "    INNER JOIN dim_product product\n",
    "           ON\n",
    "        sales.product_id = product.product_id\n",
    "    INNER JOIN dim_customer cust\n",
    "           ON\n",
    "        sales.customer_id = cust.customer_id\n",
    "\"\"\"\n",
    "\n",
    "all_sales = pd.read_sql(sql, con=conn)\n",
    "all_sales.sample(5).sort_index()"
   ]
  },
  {
   "cell_type": "markdown",
   "id": "fc88638b",
   "metadata": {},
   "source": [
    "Aggregate using all data (usually on BI visualization tools), sorted by sum(quantity sold) largest first."
   ]
  },
  {
   "cell_type": "code",
   "execution_count": null,
   "id": "16499d2b",
   "metadata": {},
   "outputs": [],
   "source": [
    "popular_brand_by_regions = all_sales[[\"region\", \"brand\", \"quantity\"]].groupby([\"region\"]).apply(\n",
    "    lambda x: x.groupby([\"brand\"]).sum().sort_values(\"quantity\", ascending=False))\n",
    "\n",
    "popular_brand_by_regions"
   ]
  },
  {
   "cell_type": "code",
   "execution_count": null,
   "id": "bdfcccb5",
   "metadata": {},
   "outputs": [],
   "source": [
    "all_sales[[\"region\", \"quantity\"]].groupby(\"region\").sum().plot.pie(\n",
    "    subplots=True, title=\"Sales quantity distribution\", \n",
    "    figsize=(7,7), autopct='%1.1f%%', fontsize=12, shadow=True)"
   ]
  }
 ],
 "metadata": {
  "kernelspec": {
   "display_name": "Python 3 (ipykernel)",
   "language": "python",
   "name": "python3"
  },
  "language_info": {
   "codemirror_mode": {
    "name": "ipython",
    "version": 3
   },
   "file_extension": ".py",
   "mimetype": "text/x-python",
   "name": "python",
   "nbconvert_exporter": "python",
   "pygments_lexer": "ipython3",
   "version": "3.9.6"
  }
 },
 "nbformat": 4,
 "nbformat_minor": 5
}
