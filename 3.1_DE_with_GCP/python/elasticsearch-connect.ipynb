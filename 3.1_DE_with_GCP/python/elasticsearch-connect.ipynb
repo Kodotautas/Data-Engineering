{
 "cells": [
  { 
   "cell_type": "markdown",
   "id": "1a326529",
   "metadata": {},
   "source": [
    "# Demo : Connect to Elasticsearch\n",
    "\n",
    "### Note: Before start, install elasticsearch client. Installation guide available on [the website](https://elasticsearch-py.readthedocs.io/)"
   ]
  },
  {
   "cell_type": "markdown",
   "id": "d9c893ac",
   "metadata": {},
   "source": [
    "Import `pprint` for pretty print dictionary (optional)"
   ]
  },
  {
   "cell_type": "code",
   "execution_count": null,
   "id": "9ebc8e98",
   "metadata": {},
   "outputs": [],
   "source": [
    "from pprint import pprint"
   ]
  },
  {
   "cell_type": "markdown",
   "id": "1dfcc4dd",
   "metadata": {},
   "source": [
    "Import the elasticsearch client"
   ]
  },
  {
   "cell_type": "code",
   "execution_count": null,
   "id": "40b9bb5e",
   "metadata": {},
   "outputs": [],
   "source": [
    "from elasticsearch import Elasticsearch"
   ]
  },
  {
   "cell_type": "markdown",
   "id": "1abf951a",
   "metadata": {},
   "source": [
    "Connect to elasticsearch host.  \n",
    "For local installation with default configuration, just use\n",
    "\n",
    "```\n",
    "es = Elasticsearch()\n",
    "```\n",
    "\n",
    "If you use cloud provider, configure the value to cloud elasticsearch."
   ]
  },
  {
   "cell_type": "code",
   "execution_count": null,
   "id": "ffd70226",
   "metadata": {},
   "outputs": [],
   "source": [
    "es = Elasticsearch(\n",
    "        hosts=[\"https://data-engineering.es.asia-southeast1.gcp.elastic-cloud.com:9243\"], \n",
    "        http_auth=(\"elastic\", \"VZQcgXdJy5KcNDNtknRh8puF\")\n",
    "     )"
   ]
  },
  {
   "cell_type": "markdown",
   "id": "2bab8adb",
   "metadata": {},
   "source": [
    "Create elasticsearch entry / document (JSON format)."
   ]
  },
  {
   "cell_type": "code",
   "execution_count": null,
   "id": "8b9da019",
   "metadata": {},
   "outputs": [],
   "source": [
    "doc = {\n",
    "    'name': 'Aquaman',\n",
    "    'team': 'Justice League'\n",
    "}"
   ]
  },
  {
   "cell_type": "markdown",
   "id": "bfc1a7c6",
   "metadata": {},
   "source": [
    "Insert the document into new index : `hero-index`.  \n",
    "If you use local installation, you might get warning about security. Ignore it."
   ]
  },
  {
   "cell_type": "code",
   "execution_count": null,
   "id": "ef1e4340",
   "metadata": {},
   "outputs": [],
   "source": [
    "res = es.index(index=\"hero-index\", body=doc)"
   ]
  },
  {
   "cell_type": "markdown",
   "id": "29d21d39",
   "metadata": {},
   "source": [
    "Create another document and insert it to same `hero-index`."
   ]
  },
  {
   "cell_type": "code",
   "execution_count": null,
   "id": "c39953b5",
   "metadata": {},
   "outputs": [],
   "source": [
    "doc = {\n",
    "    'name': 'Black Widow',\n",
    "    'team': 'Avengers'\n",
    "}\n",
    "\n",
    "res = es.index(index=\"hero-index\", body=doc)"
   ]
  },
  {
   "cell_type": "markdown",
   "id": "cf18db1f",
   "metadata": {},
   "source": [
    "Select some data.  \n",
    "Elasticsearch uses [Query DSL](https://www.elastic.co/guide/en/elasticsearch/reference/current/query-dsl.html) for finding data.  \n",
    "Elasticsearch is case-insensitive, hence `justice league` in the query will get result, although the document uses capital *J* and *L*."
   ]
  },
  {
   "cell_type": "code",
   "execution_count": null,
   "id": "5534d646",
   "metadata": {},
   "outputs": [],
   "source": [
    "es_query = {\n",
    "    'query': {\n",
    "        'match': {\n",
    "            'team': 'justice league'\n",
    "        }\n",
    "    }\n",
    "}"
   ]
  },
  {
   "cell_type": "markdown",
   "id": "57a8c53e",
   "metadata": {},
   "source": [
    "Query result is python dictionary."
   ]
  },
  {
   "cell_type": "code",
   "execution_count": null,
   "id": "1cb1e768",
   "metadata": {},
   "outputs": [],
   "source": [
    "query_result = es.search(index=\"hero-index\", body=es_query)\n",
    "pprint(query_result);"
   ]
  },
  {
   "cell_type": "markdown",
   "id": "8b5ff2d2",
   "metadata": {},
   "source": [
    "We can process the result as regular python dictionary."
   ]
  },
  {
   "cell_type": "code",
   "execution_count": null,
   "id": "8f421349",
   "metadata": {},
   "outputs": [],
   "source": [
    "print(\"Found {} hits\".format(query_result[\"hits\"][\"total\"][\"value\"]))"
   ]
  },
  {
   "cell_type": "markdown",
   "id": "5c69521b",
   "metadata": {},
   "source": [
    "Loop to get all Justice League members."
   ]
  },
  {
   "cell_type": "code",
   "execution_count": null,
   "id": "0480cb4c",
   "metadata": {},
   "outputs": [],
   "source": [
    "for hit in query_result[\"hits\"][\"hits\"]:\n",
    "    print(hit[\"_source\"])"
   ]
  },
  {
   "cell_type": "markdown",
   "id": "265cec30",
   "metadata": {},
   "source": [
    "Delete index for demo purpose."
   ]
  },
  {
   "cell_type": "code",
   "execution_count": null,
   "id": "7997e924",
   "metadata": {},
   "outputs": [],
   "source": [
    "es.indices.delete(\"hero-index\")"
   ]
  }
 ],
 "metadata": {
  "kernelspec": {
   "display_name": "Python 3 (ipykernel)",
   "language": "python",
   "name": "python3"
  },
  "language_info": {
   "codemirror_mode": {
    "name": "ipython",
    "version": 3
   },
   "file_extension": ".py",
   "mimetype": "text/x-python",
   "name": "python",
   "nbconvert_exporter": "python",
   "pygments_lexer": "ipython3",
   "version": "3.9.6"
  }
 },
 "nbformat": 4,
 "nbformat_minor": 5
}
