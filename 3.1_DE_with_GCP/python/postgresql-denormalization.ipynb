{
 "cells": [
  {
   "cell_type": "markdown", 
   "id": "05ef66b5",
   "metadata": {},
   "source": [
    "# Demo : Database Denormalization"
   ]
  },
  {
   "cell_type": "markdown",
   "id": "b9475c3d",
   "metadata": {},
   "source": [
    "use pandas (optional) just for display rows.  \n",
    "If needed, follow [pandas installation instruction](https://pandas.pydata.org/docs/getting_started/install.html)"
   ]
  },
  {
   "cell_type": "code",
   "execution_count": null,
   "id": "9c1efc06",
   "metadata": {},
   "outputs": [],
   "source": [
    "import pandas as pd"
   ]
  },
  {
   "cell_type": "markdown",
   "id": "9a393a91",
   "metadata": {},
   "source": [
    "Import postgresql library and open connection"
   ]
  },
  {
   "cell_type": "code",
   "execution_count": null,
   "id": "e25083fe",
   "metadata": {},
   "outputs": [],
   "source": [
    "import psycopg2\n",
    "\n",
    "try:\n",
    "    conn = psycopg2.connect(\"host=34.101.229.192 dbname=postgres user=postgres password=CourseDE888\")\n",
    "    conn.set_session(autocommit=True)\n",
    "    \n",
    "    cur = conn.cursor()\n",
    "except Exception as e: \n",
    "    print(\"Error: cannot open cursor for SQL interaction\")\n",
    "    print(e)"
   ]
  },
  {
   "cell_type": "markdown",
   "id": "4fba8a54",
   "metadata": {},
   "source": [
    "### What if we want several report?\n",
    "\n",
    "**1st Report** is team details, including:\n",
    "  - team name\n",
    "  - team origin\n",
    "  - is hero\n",
    "  - headquarter name\n",
    "  - headquarter location\n",
    "  \n",
    "----  \n",
    "  \n",
    "**2nd Report** is member details, including:\n",
    "  - team name\n",
    "  - team origin\n",
    "  - is hero\n",
    "  - member name\n",
    "  - member real name\n",
    "  - member alias\n",
    "  - member homeland name\n",
    "  - member superpower"
   ]
  },
  {
   "cell_type": "markdown",
   "id": "45b4174c",
   "metadata": {},
   "source": [
    "This is 1st report from normalized table"
   ]
  },
  {
   "cell_type": "code",
   "execution_count": null,
   "id": "eb73da0f",
   "metadata": {},
   "outputs": [],
   "source": [
    "sql = \"\"\"\n",
    "    SELECT t.team_name, t.origin, t.is_hero, hq.name, hq.location\n",
    "    FROM teams t    \n",
    "    INNER JOIN headquarters hq ON\n",
    "        t.team_id = hq.team_id\n",
    "    \"\"\"\n",
    "    \n",
    "cur.execute(sql)\n",
    "\n",
    "for row in cur.fetchall():\n",
    "    print(row)"
   ]
  },
  {
   "cell_type": "markdown",
   "id": "4da14a75",
   "metadata": {},
   "source": [
    "This is 2nd report from normalized table"
   ]
  },
  {
   "cell_type": "code",
   "execution_count": null,
   "id": "ba629a33",
   "metadata": {},
   "outputs": [],
   "source": [
    "sql = \"\"\"\n",
    "        SELECT t.team_name, t.origin, t.is_hero, m.name, m.real_name, m.alias, h.name, s.name\n",
    "        FROM teams t\n",
    "        INNER JOIN members m ON\n",
    "            m.team_id = t.team_id\n",
    "        INNER JOIN member_superpowers ms ON\n",
    "            m.member_id = ms.member_id\n",
    "        INNER JOIN superpowers s ON\n",
    "            s.superpower_id = ms.superpower_id\n",
    "        INNER JOIN homelands h ON\n",
    "            h.homeland_id = m.homeland_id\n",
    "        ORDER BY t.team_name, m.name\n",
    "    \"\"\"\n",
    "\n",
    "cur.execute(sql)\n",
    "\n",
    "for row in cur.fetchall():\n",
    "    print(row)"
   ]
  },
  {
   "cell_type": "markdown",
   "id": "5ab459f4",
   "metadata": {},
   "source": [
    "### Denormalize table for 1st report\n",
    "\n",
    "<img src=\"img/postgresql-denormalization-diagram-01.png\" align=\"left\"/>"
   ]
  },
  {
   "cell_type": "markdown",
   "id": "22199877",
   "metadata": {},
   "source": [
    "Create table"
   ]
  },
  {
   "cell_type": "code",
   "execution_count": null,
   "id": "44c54385",
   "metadata": {},
   "outputs": [],
   "source": [
    "cur.execute(\"DROP TABLE IF EXISTS team_reports\")\n",
    "\n",
    "cur.execute(\"\"\"\n",
    "    CREATE TABLE IF NOT EXISTS team_reports(\n",
    "        team_id integer NOT NULL,\n",
    "        team_name varchar,\n",
    "        team_origin varchar,\n",
    "        is_hero boolean,\n",
    "        headquarter_name varchar,\n",
    "        headquarter_location varchar\n",
    "    );\n",
    "\"\"\")\n",
    "\n",
    "cur.execute(\"\"\"\n",
    "    CREATE INDEX IF NOT EXISTS team_reports_team_name_idx \n",
    "        ON team_reports (team_name)\n",
    "\"\"\")"
   ]
  },
  {
   "cell_type": "markdown",
   "id": "07874901",
   "metadata": {},
   "source": [
    "Insert data into table"
   ]
  },
  {
   "cell_type": "code",
   "execution_count": null,
   "id": "190c9274",
   "metadata": {},
   "outputs": [],
   "source": [
    "cur.execute(\"\"\"\n",
    "    INSERT INTO team_reports (\n",
    "        team_id, team_name, team_origin, is_hero, headquarter_name, headquarter_location) \n",
    "    (\n",
    "        SELECT t.team_id, t.team_name, t.origin,\n",
    "               t.is_hero, hq.name, hq.location\n",
    "        FROM teams t\n",
    "        INNER JOIN headquarters hq ON t.team_id = hq.team_id\n",
    "    );\n",
    "\"\"\")"
   ]
  },
  {
   "cell_type": "markdown",
   "id": "22fbc391",
   "metadata": {},
   "source": [
    "### Denormalize table for 2nd report\n",
    "\n",
    "<img src=\"img/postgresql-denormalization-diagram-02.png\" align=\"left\"/>"
   ]
  },
  {
   "cell_type": "markdown",
   "id": "812fd01d",
   "metadata": {},
   "source": [
    "Create table"
   ]
  },
  {
   "cell_type": "code",
   "execution_count": null,
   "id": "cb650e0d",
   "metadata": {},
   "outputs": [],
   "source": [
    "cur.execute(\"DROP TABLE IF EXISTS member_detail_reports CASCADE\")\n",
    "cur.execute(\"DROP TABLE IF EXISTS member_team_reports CASCADE\")\n",
    "\n",
    "cur.execute(\"\"\"\n",
    "    CREATE TABLE IF NOT EXISTS member_team_reports(\n",
    "        team_id integer PRIMARY KEY,\n",
    "        team_name varchar,\n",
    "        team_origin varchar,\n",
    "        is_hero boolean\n",
    "    );\n",
    "\"\"\")\n",
    "\n",
    "cur.execute(\"\"\"\n",
    "    CREATE TABLE IF NOT EXISTS member_detail_reports(\n",
    "        member_id integer NOT NULL,\n",
    "        team_id integer REFERENCES member_team_reports(team_id),\n",
    "        member_name varchar,\n",
    "        member_real_name varchar,\n",
    "        member_alias varchar,\n",
    "        member_homeland varchar,\n",
    "        member_superpower varchar\n",
    "    );\n",
    "\"\"\")\n",
    "\n",
    "cur.execute(\"\"\"\n",
    "    CREATE INDEX IF NOT EXISTS member_team_reports_team_name_idx \n",
    "        ON member_team_reports (team_name)\n",
    "\"\"\")\n",
    "\n",
    "cur.execute(\"\"\"\n",
    "    CREATE INDEX IF NOT EXISTS member_detail_reports_member_name_idx \n",
    "        ON member_detail_reports (member_name)\n",
    "\"\"\")"
   ]
  },
  {
   "cell_type": "markdown",
   "id": "a06972e2",
   "metadata": {},
   "source": [
    "Insert data into table"
   ]
  },
  {
   "cell_type": "code",
   "execution_count": null,
   "id": "d5ae7044",
   "metadata": {},
   "outputs": [],
   "source": [
    "cur.execute(\"\"\"\n",
    "    INSERT INTO member_team_reports (\n",
    "        team_id, team_name, team_origin, is_hero) \n",
    "        (\n",
    "            SELECT t.team_id, t.team_name, t.origin, t.is_hero\n",
    "            FROM teams t\n",
    "        );\n",
    "\"\"\")\n",
    "\n",
    "cur.execute(\"\"\"\n",
    "    INSERT INTO member_detail_reports (\n",
    "        member_id, team_id, member_name, member_real_name, \n",
    "        member_alias, member_homeland, member_superpower) \n",
    "        (\n",
    "            SELECT m.member_id, m.team_id, m.name, \n",
    "                   m.real_name, m.alias, h.name, s.name\n",
    "            FROM members m\n",
    "            INNER JOIN member_superpowers ms ON\n",
    "                m.member_id = ms.member_id\n",
    "            INNER JOIN superpowers s ON\n",
    "                s.superpower_id = ms.superpower_id\n",
    "            INNER JOIN homelands h ON\n",
    "                h.homeland_id = m.homeland_id\n",
    "        );\n",
    "\"\"\")"
   ]
  },
  {
   "cell_type": "markdown",
   "id": "d4f9d6d3",
   "metadata": {},
   "source": [
    "### Now we can select from denormalized tables, with minimum joins.\n",
    "\n",
    "1st report (from one table). Using pandas just for neater display, it's not mandatory."
   ]
  },
  {
   "cell_type": "code",
   "execution_count": null,
   "id": "9eee3118",
   "metadata": {},
   "outputs": [],
   "source": [
    "cur.execute(\"SELECT * FROM team_reports\")\n",
    "\n",
    "pd.DataFrame(cur.fetchall(), columns=[desc[0] for desc in cur.description])"
   ]
  },
  {
   "cell_type": "markdown",
   "id": "ef83854c",
   "metadata": {},
   "source": [
    "2nd report (From two tables)"
   ]
  },
  {
   "cell_type": "code",
   "execution_count": null,
   "id": "9e1ca02d",
   "metadata": {},
   "outputs": [],
   "source": [
    "cur.execute(\"\"\"\n",
    "    SELECT mtr.*, mdr.member_id, mdr.member_name, mdr.member_real_name, \n",
    "        mdr.member_alias, mdr.member_homeland, mdr.member_superpower \n",
    "      FROM member_team_reports mtr \n",
    "      INNER JOIN member_detail_reports mdr ON mtr.team_id = mdr.team_id \n",
    "\"\"\")\n",
    "\n",
    "pd.DataFrame(cur.fetchall(), columns=[desc[0] for desc in cur.description])"
   ]
  },
  {
   "cell_type": "markdown",
   "id": "a56bed59",
   "metadata": {},
   "source": [
    "Less table, easier aggregate."
   ]
  },
  {
   "cell_type": "code",
   "execution_count": null,
   "id": "dbf813a8",
   "metadata": {},
   "outputs": [],
   "source": [
    "cur.execute(\"\"\"\n",
    "    SELECT mtr.team_origin, count(DISTINCT mdr.member_id) members_count\n",
    "      FROM member_team_reports mtr \n",
    "      INNER JOIN member_detail_reports mdr ON mtr.team_id = mdr.team_id \n",
    "      GROUP BY mtr.team_origin \n",
    "      ORDER BY members_count DESC, team_origin\n",
    "\"\"\")\n",
    "\n",
    "pd.DataFrame(cur.fetchall(), columns=[desc[0] for desc in cur.description])"
   ]
  },
  {
   "cell_type": "markdown",
   "id": "6eda3f47",
   "metadata": {},
   "source": [
    "Another aggregate sample."
   ]
  },
  {
   "cell_type": "code",
   "execution_count": null,
   "id": "16df1417",
   "metadata": {},
   "outputs": [],
   "source": [
    "cur.execute(\"\"\"\n",
    "    SELECT mdr.member_superpower, mtr.team_name, mtr.team_origin, \n",
    "           count(DISTINCT mdr.member_id) superpower_count\n",
    "      FROM member_team_reports mtr \n",
    "      INNER JOIN member_detail_reports mdr ON mtr.team_id = mdr.team_id\n",
    "      WHERE lower(member_superpower) in ('flight', 'super strength')\n",
    "      GROUP BY mtr.team_name, mtr.team_origin, mdr.member_superpower\n",
    "      ORDER by superpower_count desc, team_name\n",
    "\"\"\")\n",
    "\n",
    "pd.DataFrame(cur.fetchall(), columns=[desc[0] for desc in cur.description])"
   ]
  },
  {
   "cell_type": "markdown",
   "id": "20080b8b",
   "metadata": {},
   "source": [
    "Duplication in member_id is OK in denormalized table"
   ]
  },
  {
   "cell_type": "code",
   "execution_count": null,
   "id": "75781632",
   "metadata": {},
   "outputs": [],
   "source": [
    "cur.execute(\"SELECT * FROM member_detail_reports ORDER BY member_id\")\n",
    "\n",
    "pd.DataFrame(cur.fetchall(), columns=[desc[0] for desc in cur.description])"
   ]
  }
 ],
 "metadata": {
  "kernelspec": {
   "display_name": "Python 3 (ipykernel)",
   "language": "python",
   "name": "python3"
  },
  "language_info": {
   "codemirror_mode": {
    "name": "ipython",
    "version": 3
   },
   "file_extension": ".py",
   "mimetype": "text/x-python",
   "name": "python",
   "nbconvert_exporter": "python",
   "pygments_lexer": "ipython3",
   "version": "3.9.6"
  }
 },
 "nbformat": 4,
 "nbformat_minor": 5
}
