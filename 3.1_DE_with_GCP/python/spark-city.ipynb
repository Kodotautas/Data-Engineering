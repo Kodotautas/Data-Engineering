{
 "cells": [
  {
   "cell_type": "markdown",
   "id": "8e2ef3e5",
   "metadata": {},
   "source": [
    "# Sample Errors That Might Happened"
   ]
  },
  {
   "cell_type": "code",
   "execution_count": 1,
   "id": "3ee59161",
   "metadata": {},
   "outputs": [],
   "source": [
    "import os\n",
    "import sys\n",
    "\n",
    "from pyspark.sql import SparkSession\n",
    "from pyspark.sql.types import StructType, StructField, StringType"
   ]
  },
  {
   "cell_type": "code",
   "execution_count": 2,
   "id": "d86d0a04",
   "metadata": {},
   "outputs": [],
   "source": [
    "os.environ['PYSPARK_PYTHON'] = sys.executable\n",
    "os.environ['PYSPARK_DRIVER_PYTHON'] = sys.executable"
   ]
  },
  {
   "cell_type": "code",
   "execution_count": 3,
   "id": "b39c5014",
   "metadata": {},
   "outputs": [],
   "source": [
    "spark = SparkSession.builder.appName(\"City\").getOrCreate()"
   ]
  },
  {
   "cell_type": "markdown",
   "id": "5ef0bf65",
   "metadata": {},
   "source": [
    "Read from course bucket or local file"
   ]
  },
  {
   "cell_type": "code",
   "execution_count": 27,
   "id": "9a6018e6",
   "metadata": {},
   "outputs": [],
   "source": [
    "# city_file_1 = \"gs://course_data_engineering_sample_data/spark_city_1.jsonl\"\n",
    "city_file_1 = \"data/spark_city_1.jsonl\"\n",
    "city_spark_1 = spark.read.json(city_file_1)\n",
    "\n",
    "# city_file_2 = \"gs://course_data_engineering_sample_data/spark_city_2.jsonl\"\n",
    "city_file_2 = \"data/spark_city_2.jsonl\"\n",
    "city_spark_2 = spark.read.json(city_file_2)"
   ]
  },
  {
   "cell_type": "markdown",
   "id": "f7c2f2fc",
   "metadata": {},
   "source": [
    "Expected error : wrong field name (`timezon`, should be `timezone`)"
   ]
  },
  {
   "cell_type": "code",
   "execution_count": 28,
   "id": "ae098ee1",
   "metadata": {},
   "outputs": [
    {
     "ename": "AttributeError",
     "evalue": "'DataFrame' object has no attribute 'timezon'",
     "output_type": "error",
     "traceback": [
      "\u001b[1;31m---------------------------------------------------------------------------\u001b[0m",
      "\u001b[1;31mAttributeError\u001b[0m                            Traceback (most recent call last)",
      "\u001b[1;32m~\\AppData\\Local\\Temp/ipykernel_12216/2869274224.py\u001b[0m in \u001b[0;36m<module>\u001b[1;34m\u001b[0m\n\u001b[1;32m----> 1\u001b[1;33m \u001b[0mcity_spark_1_subset\u001b[0m \u001b[1;33m=\u001b[0m \u001b[0mcity_spark_1\u001b[0m\u001b[1;33m.\u001b[0m\u001b[0mwhere\u001b[0m\u001b[1;33m(\u001b[0m\u001b[0mcity_spark_1\u001b[0m\u001b[1;33m.\u001b[0m\u001b[0mtimezon\u001b[0m \u001b[1;33m==\u001b[0m \u001b[1;34m\"Asia/Jakarta\"\u001b[0m\u001b[1;33m)\u001b[0m\u001b[1;33m\u001b[0m\u001b[1;33m\u001b[0m\u001b[0m\n\u001b[0m",
      "\u001b[1;32mD:\\development\\python\\lib\\site-packages\\pyspark\\sql\\dataframe.py\u001b[0m in \u001b[0;36m__getattr__\u001b[1;34m(self, name)\u001b[0m\n\u001b[0;32m   1657\u001b[0m         \"\"\"\n\u001b[0;32m   1658\u001b[0m         \u001b[1;32mif\u001b[0m \u001b[0mname\u001b[0m \u001b[1;32mnot\u001b[0m \u001b[1;32min\u001b[0m \u001b[0mself\u001b[0m\u001b[1;33m.\u001b[0m\u001b[0mcolumns\u001b[0m\u001b[1;33m:\u001b[0m\u001b[1;33m\u001b[0m\u001b[1;33m\u001b[0m\u001b[0m\n\u001b[1;32m-> 1659\u001b[1;33m             raise AttributeError(\n\u001b[0m\u001b[0;32m   1660\u001b[0m                 \"'%s' object has no attribute '%s'\" % (self.__class__.__name__, name))\n\u001b[0;32m   1661\u001b[0m         \u001b[0mjc\u001b[0m \u001b[1;33m=\u001b[0m \u001b[0mself\u001b[0m\u001b[1;33m.\u001b[0m\u001b[0m_jdf\u001b[0m\u001b[1;33m.\u001b[0m\u001b[0mapply\u001b[0m\u001b[1;33m(\u001b[0m\u001b[0mname\u001b[0m\u001b[1;33m)\u001b[0m\u001b[1;33m\u001b[0m\u001b[1;33m\u001b[0m\u001b[0m\n",
      "\u001b[1;31mAttributeError\u001b[0m: 'DataFrame' object has no attribute 'timezon'"
     ]
    }
   ],
   "source": [
    "city_spark_1_subset = city_spark_1.where(city_spark_1.timezon == \"Asia/Jakarta\")"
   ]
  },
  {
   "cell_type": "markdown",
   "id": "cc37f5a4",
   "metadata": {},
   "source": [
    "Expected error : wrong method name (`Union`, should be lowercase `union`)"
   ]
  },
  {
   "cell_type": "code",
   "execution_count": 29,
   "id": "d061087c",
   "metadata": {},
   "outputs": [
    {
     "ename": "AttributeError",
     "evalue": "'DataFrame' object has no attribute 'Union'",
     "output_type": "error",
     "traceback": [
      "\u001b[1;31m---------------------------------------------------------------------------\u001b[0m",
      "\u001b[1;31mAttributeError\u001b[0m                            Traceback (most recent call last)",
      "\u001b[1;32m~\\AppData\\Local\\Temp/ipykernel_12216/2062693993.py\u001b[0m in \u001b[0;36m<module>\u001b[1;34m\u001b[0m\n\u001b[1;32m----> 1\u001b[1;33m \u001b[0mcity_spark_union\u001b[0m \u001b[1;33m=\u001b[0m \u001b[0mcity_spark_1\u001b[0m\u001b[1;33m.\u001b[0m\u001b[0mUnion\u001b[0m\u001b[1;33m(\u001b[0m\u001b[0mcity_spark_2\u001b[0m\u001b[1;33m)\u001b[0m\u001b[1;33m\u001b[0m\u001b[1;33m\u001b[0m\u001b[0m\n\u001b[0m",
      "\u001b[1;32mD:\\development\\python\\lib\\site-packages\\pyspark\\sql\\dataframe.py\u001b[0m in \u001b[0;36m__getattr__\u001b[1;34m(self, name)\u001b[0m\n\u001b[0;32m   1657\u001b[0m         \"\"\"\n\u001b[0;32m   1658\u001b[0m         \u001b[1;32mif\u001b[0m \u001b[0mname\u001b[0m \u001b[1;32mnot\u001b[0m \u001b[1;32min\u001b[0m \u001b[0mself\u001b[0m\u001b[1;33m.\u001b[0m\u001b[0mcolumns\u001b[0m\u001b[1;33m:\u001b[0m\u001b[1;33m\u001b[0m\u001b[1;33m\u001b[0m\u001b[0m\n\u001b[1;32m-> 1659\u001b[1;33m             raise AttributeError(\n\u001b[0m\u001b[0;32m   1660\u001b[0m                 \"'%s' object has no attribute '%s'\" % (self.__class__.__name__, name))\n\u001b[0;32m   1661\u001b[0m         \u001b[0mjc\u001b[0m \u001b[1;33m=\u001b[0m \u001b[0mself\u001b[0m\u001b[1;33m.\u001b[0m\u001b[0m_jdf\u001b[0m\u001b[1;33m.\u001b[0m\u001b[0mapply\u001b[0m\u001b[1;33m(\u001b[0m\u001b[0mname\u001b[0m\u001b[1;33m)\u001b[0m\u001b[1;33m\u001b[0m\u001b[1;33m\u001b[0m\u001b[0m\n",
      "\u001b[1;31mAttributeError\u001b[0m: 'DataFrame' object has no attribute 'Union'"
     ]
    }
   ],
   "source": [
    "city_spark_union = city_spark_1.Union(city_spark_2)"
   ]
  },
  {
   "cell_type": "markdown",
   "id": "eb377ece",
   "metadata": {},
   "source": [
    "Expected error, not import functions yet. Should has\n",
    "\n",
    "```\n",
    "from pyspark.sql.functions import count\n",
    "```"
   ]
  },
  {
   "cell_type": "code",
   "execution_count": 30,
   "id": "b79031bc",
   "metadata": {},
   "outputs": [
    {
     "ename": "NameError",
     "evalue": "name 'count' is not defined",
     "output_type": "error",
     "traceback": [
      "\u001b[1;31m---------------------------------------------------------------------------\u001b[0m",
      "\u001b[1;31mNameError\u001b[0m                                 Traceback (most recent call last)",
      "\u001b[1;32m~\\AppData\\Local\\Temp/ipykernel_12216/1643782637.py\u001b[0m in \u001b[0;36m<module>\u001b[1;34m\u001b[0m\n\u001b[1;32m----> 1\u001b[1;33m \u001b[0mcity_spark_1\u001b[0m\u001b[1;33m.\u001b[0m\u001b[0mgroupBy\u001b[0m\u001b[1;33m(\u001b[0m\u001b[1;34m\"timezone\"\u001b[0m\u001b[1;33m)\u001b[0m\u001b[1;33m.\u001b[0m\u001b[0magg\u001b[0m\u001b[1;33m(\u001b[0m\u001b[0mcount\u001b[0m\u001b[1;33m(\u001b[0m\u001b[1;34m\"city_name\"\u001b[0m\u001b[1;33m)\u001b[0m\u001b[1;33m)\u001b[0m\u001b[1;33m.\u001b[0m\u001b[0morderBy\u001b[0m\u001b[1;33m(\u001b[0m\u001b[1;34m\"timezone\"\u001b[0m\u001b[1;33m)\u001b[0m\u001b[1;33m.\u001b[0m\u001b[0mshow\u001b[0m\u001b[1;33m(\u001b[0m\u001b[0mtruncate\u001b[0m\u001b[1;33m=\u001b[0m\u001b[1;32mFalse\u001b[0m\u001b[1;33m)\u001b[0m\u001b[1;33m\u001b[0m\u001b[1;33m\u001b[0m\u001b[0m\n\u001b[0m",
      "\u001b[1;31mNameError\u001b[0m: name 'count' is not defined"
     ]
    }
   ],
   "source": [
    "city_spark_1.groupBy(\"timezone\").agg(count(\"city_name\")).orderBy(\"timezone\").show(truncate=False)"
   ]
  },
  {
   "cell_type": "markdown",
   "id": "858a4374",
   "metadata": {},
   "source": [
    "Data error : last row in `city_spark_2.jsonl` is invalid, it does not have closing `}`"
   ]
  },
  {
   "cell_type": "code",
   "execution_count": 32,
   "id": "fef8049e",
   "metadata": {},
   "outputs": [
    {
     "data": {
      "text/plain": [
       "[Row(_corrupt_record=None, city_name='São Sebastião', country='Portugal', latitude=38.6681004, longitude=-27.0897051, timezone='Africa/Accra'),\n",
       " Row(_corrupt_record=None, city_name='Kruševac', country='Serbia', latitude=43.5757545, longitude=21.331051, timezone='Europe/Belgrade'),\n",
       " Row(_corrupt_record=None, city_name='Washington', country='United States', latitude=38.8827087, longitude=-77.0163235, timezone='America/New_York'),\n",
       " Row(_corrupt_record=None, city_name='Rokytne', country='Ukraine', latitude=51.287518, longitude=27.2018656, timezone='Europe/Kiev'),\n",
       " Row(_corrupt_record=None, city_name='San Jose', country='Mexico', latitude=25.8007724, longitude=-100.4277766, timezone='America/Mexico_City'),\n",
       " Row(_corrupt_record=None, city_name='Skerries', country='Ireland', latitude=53.5834008, longitude=-6.1349155, timezone='Europe/Dublin'),\n",
       " Row(_corrupt_record=None, city_name='Kanal', country='Slovenia', latitude=46.0853803, longitude=13.634308, timezone='Europe/Rome'),\n",
       " Row(_corrupt_record=None, city_name='Pedro Betancourt', country='Cuba', latitude=22.7292345, longitude=-81.2917971, timezone='America/Havana'),\n",
       " Row(_corrupt_record=None, city_name='‘Amrān', country='Yemen', latitude=16.2569214, longitude=43.9436788, timezone='Asia/Aden'),\n",
       " Row(_corrupt_record='{\"city_name\":\"Liushun\",\"country\":\"China\",\"timezone\":\"Asia/Chongqing\",\"latitude\":22.62097,\"longitude\":100.721884', city_name=None, country=None, latitude=None, longitude=None, timezone=None)]"
      ]
     },
     "execution_count": 32,
     "metadata": {},
     "output_type": "execute_result"
    }
   ],
   "source": [
    "city_spark_2.tail(10)"
   ]
  },
  {
   "cell_type": "code",
   "execution_count": null,
   "id": "25e69ea1",
   "metadata": {},
   "outputs": [],
   "source": []
  }
 ],
 "metadata": {
  "kernelspec": {
   "display_name": "Python 3 (ipykernel)",
   "language": "python",
   "name": "python3"
  },
  "language_info": {
   "codemirror_mode": {
    "name": "ipython",
    "version": 3
   },
   "file_extension": ".py",
   "mimetype": "text/x-python",
   "name": "python",
   "nbconvert_exporter": "python",
   "pygments_lexer": "ipython3",
   "version": "3.9.7"
  }
 },
 "nbformat": 4,
 "nbformat_minor": 5
}
