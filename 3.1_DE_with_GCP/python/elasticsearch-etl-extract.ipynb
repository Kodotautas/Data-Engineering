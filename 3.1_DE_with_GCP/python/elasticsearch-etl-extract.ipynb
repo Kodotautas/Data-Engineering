{
 "cells": [
  {
   "cell_type": "markdown", 
   "id": "424dc500",
   "metadata": {},
   "source": [
    "# Demo : ETL Elasticsearch (Extract)"
   ]
  },
  {
   "cell_type": "markdown",
   "id": "f94ce769",
   "metadata": {},
   "source": [
    "Import libraries. At this point, you should already runs previous lessons and have the libraries installed."
   ]
  },
  {
   "cell_type": "code",
   "execution_count": null,
   "id": "6fe1422c",
   "metadata": {},
   "outputs": [],
   "source": [
    "import psycopg2"
   ]
  },
  {
   "cell_type": "markdown",
   "id": "3bedc4e4",
   "metadata": {},
   "source": [
    "Open connection to postgresql"
   ]
  },
  {
   "cell_type": "code",
   "execution_count": null,
   "id": "8b1d7c52",
   "metadata": {},
   "outputs": [],
   "source": [
    "try:\n",
    "    conn = psycopg2.connect(\"host=34.101.229.192 dbname=postgres user=postgres password=CourseDE888\")\n",
    "    conn.set_session(autocommit=True)\n",
    "    cur = conn.cursor()\n",
    "except Exception as e:\n",
    "    print(\"Error: cannot open cursor for SQL interaction\")\n",
    "    print(e)"
   ]
  },
  {
   "cell_type": "markdown",
   "id": "04b71fff",
   "metadata": {},
   "source": [
    "Clear staging table"
   ]
  },
  {
   "cell_type": "code",
   "execution_count": null,
   "id": "2fa92ea3",
   "metadata": {},
   "outputs": [],
   "source": [
    "cur.execute(\"\"\"\n",
    "    DELETE FROM staging.stg_es_movie_principals\n",
    "           WHERE date_trunc('day', created_date) = date_trunc('day', now())\n",
    "\"\"\")"
   ]
  },
  {
   "cell_type": "markdown",
   "id": "b5e9ec22",
   "metadata": {},
   "source": [
    "Populate data for staging tables"
   ]
  },
  {
   "cell_type": "code",
   "execution_count": null,
   "id": "f5bfa660",
   "metadata": {},
   "outputs": [],
   "source": [
    "sql_staging_movie_principals = \"\"\"\n",
    "    INSERT INTO staging.stg_es_movie_principals (\n",
    "        SELECT\n",
    "            m.title_id,\n",
    "            m.title,\n",
    "            m.original_title,\n",
    "            m.duration_minutes,\n",
    "            m.date_published,\n",
    "            m.production_company,\n",
    "            m.description,\n",
    "            p.name_id,\n",
    "            p.name,\n",
    "            mpc.category,\n",
    "            NULL AS job,\n",
    "            NULL AS CHARACTER\n",
    "        FROM\n",
    "            movies m,\n",
    "            people p,\n",
    "            movie_principal_categories mpc\n",
    "        WHERE\n",
    "            m.movie_id = mpc.movie_id\n",
    "            AND p.person_id = mpc.person_id\n",
    "        UNION\n",
    "        SELECT\n",
    "            m.title_id,\n",
    "            m.title,\n",
    "            m.original_title,\n",
    "            m.duration_minutes,\n",
    "            m.date_published,\n",
    "            m.production_company,\n",
    "            m.description,\n",
    "            p.name_id,\n",
    "            p.name,\n",
    "            NULL AS category,\n",
    "            NULL AS job,\n",
    "            mpch.character\n",
    "        FROM\n",
    "            movies m,\n",
    "            people p,\n",
    "            movie_principal_characters mpch\n",
    "        WHERE\n",
    "            m.movie_id = mpch.movie_id\n",
    "            AND p.person_id = mpch.person_id\n",
    "        UNION\n",
    "        SELECT\n",
    "            m.title_id,\n",
    "            m.title,\n",
    "            m.original_title,\n",
    "            m.duration_minutes,\n",
    "            m.date_published,\n",
    "            m.production_company,\n",
    "            m.description,\n",
    "            p.name_id,\n",
    "            p.name,\n",
    "            NULL AS category,\n",
    "            mj.job AS job,\n",
    "            NULL AS CHARACTER\n",
    "        FROM\n",
    "            movies m,\n",
    "            people p,\n",
    "            movie_principal_jobs mj\n",
    "        WHERE\n",
    "            m.movie_id = mj.movie_id\n",
    "            AND p.person_id = mj.person_id\n",
    "    )\n",
    "\"\"\""
   ]
  },
  {
   "cell_type": "code",
   "execution_count": null,
   "id": "1542acfe",
   "metadata": {},
   "outputs": [],
   "source": [
    "cur.execute(sql_staging_movie_principals)"
   ]
  },
  {
   "cell_type": "markdown",
   "id": "f07d1209",
   "metadata": {},
   "source": [
    "Recheck staging table"
   ]
  },
  {
   "cell_type": "code",
   "execution_count": null,
   "id": "b9d94b80",
   "metadata": {},
   "outputs": [],
   "source": [
    "cur.execute(\"SELECT count(*) FROM staging.stg_es_movie_principals\")\n",
    "cur.fetchone()[0]"
   ]
  }
 ],
 "metadata": {
  "kernelspec": {
   "display_name": "Python 3 (ipykernel)",
   "language": "python",
   "name": "python3"
  },
  "language_info": {
   "codemirror_mode": {
    "name": "ipython",
    "version": 3
   },
   "file_extension": ".py",
   "mimetype": "text/x-python",
   "name": "python",
   "nbconvert_exporter": "python",
   "pygments_lexer": "ipython3",
   "version": "3.9.6"
  }
 },
 "nbformat": 4,
 "nbformat_minor": 5
}
