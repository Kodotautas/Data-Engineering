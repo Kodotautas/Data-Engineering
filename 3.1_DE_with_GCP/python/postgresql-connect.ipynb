{
 "cells": [
  {
   "cell_type": "markdown", 
   "id": "de3594eb",
   "metadata": {},
   "source": [
    "# Demo : Connect to Postgresql\n",
    "\n",
    "### Note: Before start, install python postgresql adapter. Installation guide available on [the website](https://www.psycopg.org/)"
   ]
  },
  {
   "cell_type": "markdown",
   "id": "23b2ca1a",
   "metadata": {},
   "source": [
    "Import the adapter"
   ]
  },
  {
   "cell_type": "code",
   "execution_count": null,
   "id": "2721bb03",
   "metadata": {},
   "outputs": [],
   "source": [
    "import psycopg2\n",
    "from pprint import pprint"
   ]
  },
  {
   "cell_type": "markdown",
   "id": "275d56fa",
   "metadata": {},
   "source": [
    "Open connection to postgresql server **(adjust the connection string url & credential according to your own)**"
   ]
  },
  {
   "cell_type": "code",
   "execution_count": null,
   "id": "a95d49d8",
   "metadata": {},
   "outputs": [],
   "source": [
    "conn = psycopg2.connect(\"host=127.0.0.1 dbname=postgres user=postgres password=postgres\")"
   ]
  },
  {
   "cell_type": "markdown",
   "id": "ac600f65",
   "metadata": {},
   "source": [
    "Set connection autocommit to `True`.  \n",
    "Ability to rollback and commit transactions are feature of relational databases.  \n",
    "By setting this into `True`, each action is automatically commited without we need to call `conn.commit()` after each command. So connection does not kept open and block other action. In other words, one action = one transaction."
   ]
  },
  {
   "cell_type": "code",
   "execution_count": null,
   "id": "bab2aae9",
   "metadata": {},
   "outputs": [],
   "source": [
    "conn.set_session(autocommit=True)"
   ]
  },
  {
   "cell_type": "markdown",
   "id": "83f80680",
   "metadata": {},
   "source": [
    "Using the connection, get a cursor to execute SQL."
   ]
  },
  {
   "cell_type": "code",
   "execution_count": null,
   "id": "e8811d60",
   "metadata": {},
   "outputs": [],
   "source": [
    "cur = conn.cursor()"
   ]
  },
  {
   "cell_type": "markdown",
   "id": "1fc33b98",
   "metadata": {},
   "source": [
    "This will raise error. But it is expected, since we don't have table `hello` yet."
   ]
  },
  {
   "cell_type": "code",
   "execution_count": null,
   "id": "b01fb92e",
   "metadata": {},
   "outputs": [],
   "source": [
    "cur.execute(\"SELECT * FROM hello\")"
   ]
  },
  {
   "cell_type": "markdown",
   "id": "af37479f",
   "metadata": {},
   "source": [
    "Create the `hello` table."
   ]
  },
  {
   "cell_type": "code",
   "execution_count": null,
   "id": "78ac9f11",
   "metadata": {},
   "outputs": [],
   "source": [
    "cur.execute(\"CREATE TABLE hello (field1 varchar, field2 int);\")"
   ]
  },
  {
   "cell_type": "markdown",
   "id": "aca09e44",
   "metadata": {},
   "source": [
    "Now we can work with table `hello`.  \n",
    "For example, insert data."
   ]
  },
  {
   "cell_type": "code",
   "execution_count": null,
   "id": "e4c2e2fe",
   "metadata": {},
   "outputs": [],
   "source": [
    "cur.execute(\"INSERT INTO hello(field1, field2) VALUES ('Hello postgres', 1);\")"
   ]
  },
  {
   "cell_type": "markdown",
   "id": "47a43517",
   "metadata": {},
   "source": [
    "Or using this kind of statement to insert data."
   ]
  },
  {
   "cell_type": "code",
   "execution_count": null,
   "id": "4757bf81",
   "metadata": {},
   "outputs": [],
   "source": [
    "cur.execute(\"INSERT INTO hello(field1, field2) VALUES (%s, %s)\",\n",
    "            (\"Another hello\", 2))"
   ]
  },
  {
   "cell_type": "markdown",
   "id": "b83fd50a",
   "metadata": {},
   "source": [
    "Insert within `try` block to catch error."
   ]
  },
  {
   "cell_type": "code",
   "execution_count": null,
   "id": "638361fc",
   "metadata": {},
   "outputs": [],
   "source": [
    "try:\n",
    "    cur.execute(\"INSERT INTO hello(field1, field9) VALUES (%s, %s)\", \n",
    "                (\"This will fail\", 3))\n",
    "except psycopg2.Error as e: \n",
    "    print(\"Error when inserting row\")\n",
    "    print (e)"
   ]
  },
  {
   "cell_type": "markdown",
   "id": "07420ad0",
   "metadata": {},
   "source": [
    "Try some `SELECT` query."
   ]
  },
  {
   "cell_type": "code",
   "execution_count": null,
   "id": "41a36cca",
   "metadata": {},
   "outputs": [],
   "source": [
    "cur.execute(\"SELECT COUNT(*) FROM hello;\")\n",
    "print(cur.fetchone())"
   ]
  },
  {
   "cell_type": "markdown",
   "id": "9a4b5e19",
   "metadata": {},
   "source": [
    "Select and iterate all rows."
   ]
  },
  {
   "cell_type": "code",
   "execution_count": null,
   "id": "eacb859e",
   "metadata": {},
   "outputs": [],
   "source": [
    "cur.execute(\"SELECT * FROM hello;\")\n",
    "row = cur.fetchone()\n",
    "while row:\n",
    "    print(row)\n",
    "    row = cur.fetchone()"
   ]
  },
  {
   "cell_type": "markdown",
   "id": "f4a36b34",
   "metadata": {},
   "source": [
    "Drop table for cleanup."
   ]
  },
  {
   "cell_type": "code",
   "execution_count": null,
   "id": "d6916853",
   "metadata": {},
   "outputs": [],
   "source": [
    "cur.execute(\"DROP TABLE hello;\")"
   ]
  },
  {
   "cell_type": "markdown",
   "id": "77912d2a",
   "metadata": {},
   "source": [
    "Close cursor & connection when done."
   ]
  },
  {
   "cell_type": "code",
   "execution_count": null,
   "id": "33f90477",
   "metadata": {},
   "outputs": [],
   "source": [
    "cur.close()\n",
    "conn.close()"
   ]
  }
 ],
 "metadata": {
  "kernelspec": {
   "display_name": "Python 3 (ipykernel)",
   "language": "python",
   "name": "python3"
  },
  "language_info": {
   "codemirror_mode": {
    "name": "ipython",
    "version": 3
   },
   "file_extension": ".py",
   "mimetype": "text/x-python",
   "name": "python",
   "nbconvert_exporter": "python",
   "pygments_lexer": "ipython3",
   "version": "3.9.6"
  }
 },
 "nbformat": 4,
 "nbformat_minor": 5
}
