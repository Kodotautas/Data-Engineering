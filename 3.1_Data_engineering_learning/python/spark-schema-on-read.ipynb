{
 "cells": [
  {
   "cell_type": "markdown",
   "id": "8e2ef3e5",
   "metadata": {},
   "source": [
    "# Schema-on-read Using Spark"
   ]
  },
  {
   "cell_type": "markdown",
   "id": "acb60500",
   "metadata": {},
   "source": [
    "Import `pyspark.sql.types.xxx` for the data types required by schema-on-read."
   ]
  },
  {
   "cell_type": "code",
   "execution_count": 1,
   "id": "3ee59161",
   "metadata": {},
   "outputs": [],
   "source": [
    "import os\n",
    "import sys\n",
    "\n",
    "from pyspark.sql import SparkSession\n",
    "from pyspark.sql.types import StructType, StructField, StringType, DateType, IntegerType"
   ]
  },
  {
   "cell_type": "code",
   "execution_count": 2,
   "id": "d86d0a04",
   "metadata": {},
   "outputs": [],
   "source": [
    "os.environ['PYSPARK_PYTHON'] = sys.executable\n",
    "os.environ['PYSPARK_DRIVER_PYTHON'] = sys.executable"
   ]
  },
  {
   "cell_type": "code",
   "execution_count": 3,
   "id": "b39c5014",
   "metadata": {},
   "outputs": [],
   "source": [
    "spark = SparkSession.builder.appName(\"Schema on Read\").getOrCreate()"
   ]
  },
  {
   "cell_type": "markdown",
   "id": "5ef0bf65",
   "metadata": {},
   "source": [
    "Read from data source"
   ]
  },
  {
   "cell_type": "code",
   "execution_count": 4,
   "id": "9a6018e6",
   "metadata": {},
   "outputs": [],
   "source": [
    "data_file_no_header = \"data/schema_on_read_no_header.csv\"\n",
    "df_spark_no_header = spark.read.csv(data_file_no_header, header=False)\n",
    "\n",
    "data_file_with_header = \"data/schema_on_read_with_header.csv\"\n",
    "df_spark_with_header = spark.read.csv(data_file_with_header, header=True)"
   ]
  },
  {
   "cell_type": "markdown",
   "id": "f7c2f2fc",
   "metadata": {},
   "source": [
    "Inferred schema from CSV header. Notice that all is string."
   ]
  },
  {
   "cell_type": "code",
   "execution_count": 5,
   "id": "ae098ee1",
   "metadata": {},
   "outputs": [
    {
     "name": "stdout",
     "output_type": "stream",
     "text": [
      "root\n",
      " |-- brand: string (nullable = true)\n",
      " |-- model: string (nullable = true)\n",
      " |-- release_date: string (nullable = true)\n",
      " |-- price: string (nullable = true)\n",
      "\n"
     ]
    }
   ],
   "source": [
    "df_spark_with_header.printSchema()"
   ]
  },
  {
   "cell_type": "code",
   "execution_count": 6,
   "id": "8020262d",
   "metadata": {},
   "outputs": [
    {
     "name": "stdout",
     "output_type": "stream",
     "text": [
      "+----------+------+------------+-----+\n",
      "|     brand| model|release_date|price|\n",
      "+----------+------+------------+-----+\n",
      "|      Audi|    A8|  2019-11-28|18692|\n",
      "|     Volvo|   C70|  2020-05-01|23396|\n",
      "|      Ford|  F450|  2020-02-14|23811|\n",
      "|Mitsubishi|Tredia|  2019-03-06|17035|\n",
      "|       Kia|   Rio|  2020-04-04|16921|\n",
      "+----------+------+------------+-----+\n",
      "only showing top 5 rows\n",
      "\n"
     ]
    }
   ],
   "source": [
    "df_spark_with_header.show(5)"
   ]
  },
  {
   "cell_type": "markdown",
   "id": "5daae326",
   "metadata": {},
   "source": [
    "No header, so all rows are treated as data. The inferred schema has no column name."
   ]
  },
  {
   "cell_type": "code",
   "execution_count": 7,
   "id": "658cc695",
   "metadata": {},
   "outputs": [
    {
     "name": "stdout",
     "output_type": "stream",
     "text": [
      "root\n",
      " |-- _c0: string (nullable = true)\n",
      " |-- _c1: string (nullable = true)\n",
      " |-- _c2: string (nullable = true)\n",
      " |-- _c3: string (nullable = true)\n",
      "\n"
     ]
    }
   ],
   "source": [
    "df_spark_no_header.printSchema()"
   ]
  },
  {
   "cell_type": "code",
   "execution_count": 8,
   "id": "2c029ff5",
   "metadata": {},
   "outputs": [
    {
     "name": "stdout",
     "output_type": "stream",
     "text": [
      "+----------+-----------+----------+-----+\n",
      "|       _c0|        _c1|       _c2|  _c3|\n",
      "+----------+-----------+----------+-----+\n",
      "|       GMC|     Sonoma|2020-03-14|21062|\n",
      "|Land Rover|Range Rover|2019-04-18|16563|\n",
      "|     Honda|    Insight|2021-01-01|24766|\n",
      "|      Ford|       F350|2019-01-22|20303|\n",
      "|    Subaru|        SVX|2019-04-21|24681|\n",
      "+----------+-----------+----------+-----+\n",
      "only showing top 5 rows\n",
      "\n"
     ]
    }
   ],
   "source": [
    "df_spark_no_header.show(5)"
   ]
  },
  {
   "cell_type": "markdown",
   "id": "cd4f2bac",
   "metadata": {},
   "source": [
    "Define our own schema explicitly."
   ]
  },
  {
   "cell_type": "code",
   "execution_count": 9,
   "id": "346c981f",
   "metadata": {},
   "outputs": [],
   "source": [
    "spark_schema = StructType([\n",
    "    StructField(\"f_brand\", StringType()),\n",
    "    StructField(\"f_model\", StringType()),\n",
    "    StructField(\"f_release_date\", DateType()),\n",
    "    StructField(\"f_price\", IntegerType())\n",
    "])"
   ]
  },
  {
   "cell_type": "markdown",
   "id": "f8dc6c8a",
   "metadata": {},
   "source": [
    "Read csv using explicit_schema"
   ]
  },
  {
   "cell_type": "code",
   "execution_count": 10,
   "id": "22df3659",
   "metadata": {},
   "outputs": [],
   "source": [
    "df_spark_with_header_explicit_schema = spark.read.csv(\n",
    "    data_file_with_header, header=True, schema=spark_schema, dateFormat=\"yyyy-mm-dd\")\n",
    "\n",
    "df_spark_no_header_explicit_schema = spark.read.csv(\n",
    "    data_file_no_header, header=False, schema=spark_schema, dateFormat=\"yyyy-mm-dd\")"
   ]
  },
  {
   "cell_type": "markdown",
   "id": "92a34a7b",
   "metadata": {},
   "source": [
    "When using explicit schema. Notice the data type."
   ]
  },
  {
   "cell_type": "code",
   "execution_count": 11,
   "id": "e75c906b",
   "metadata": {},
   "outputs": [
    {
     "name": "stdout",
     "output_type": "stream",
     "text": [
      "root\n",
      " |-- f_brand: string (nullable = true)\n",
      " |-- f_model: string (nullable = true)\n",
      " |-- f_release_date: date (nullable = true)\n",
      " |-- f_price: integer (nullable = true)\n",
      "\n"
     ]
    }
   ],
   "source": [
    "df_spark_with_header_explicit_schema.printSchema()"
   ]
  },
  {
   "cell_type": "code",
   "execution_count": 12,
   "id": "f6e34539",
   "metadata": {},
   "outputs": [
    {
     "name": "stdout",
     "output_type": "stream",
     "text": [
      "root\n",
      " |-- f_brand: string (nullable = true)\n",
      " |-- f_model: string (nullable = true)\n",
      " |-- f_release_date: date (nullable = true)\n",
      " |-- f_price: integer (nullable = true)\n",
      "\n"
     ]
    }
   ],
   "source": [
    "df_spark_no_header_explicit_schema.printSchema()"
   ]
  },
  {
   "cell_type": "markdown",
   "id": "b73e4328",
   "metadata": {},
   "source": [
    "Since the data type is correct, we can process them accordingly. For example, add one day to release date."
   ]
  },
  {
   "cell_type": "code",
   "execution_count": 13,
   "id": "6c910ae6",
   "metadata": {},
   "outputs": [],
   "source": [
    "df_spark_with_header_explicit_schema.createOrReplaceTempView(\"cars_explicit_schema\")"
   ]
  },
  {
   "cell_type": "code",
   "execution_count": 15,
   "id": "2a82892c",
   "metadata": {},
   "outputs": [
    {
     "name": "stdout",
     "output_type": "stream",
     "text": [
      "+----------+--------------+---------------------------+\n",
      "|   f_brand|       f_model|date_add(f_release_date, 1)|\n",
      "+----------+--------------+---------------------------+\n",
      "|      Audi|            A8|                 2019-01-29|\n",
      "|     Volvo|           C70|                 2020-01-02|\n",
      "|      Ford|          F450|                 2020-01-15|\n",
      "|Mitsubishi|        Tredia|                 2019-01-07|\n",
      "|       Kia|           Rio|                 2020-01-05|\n",
      "|     Buick|   Park Avenue|                 2020-01-11|\n",
      "|       Kia|           Rio|                 2019-01-15|\n",
      "|      Ford|          Edge|                 2020-01-25|\n",
      "| Chevrolet|        Camaro|                 2021-01-14|\n",
      "|      Audi|4000CS Quattro|                 2020-01-22|\n",
      "|Mitsubishi|      Diamante|                 2019-01-08|\n",
      "|     Acura|            CL|                 2019-01-17|\n",
      "|     Dodge|        Dakota|                 2019-01-25|\n",
      "|     Buick|       Century|                 2019-01-31|\n",
      "|Mitsubishi|        Pajero|                 2020-01-06|\n",
      "|Oldsmobile|    Silhouette|                 2019-01-05|\n",
      "|     Mazda|      B-Series|                 2021-01-19|\n",
      "|      Ford|      F-Series|                 2021-01-18|\n",
      "|  Infiniti|            QX|                 2020-01-21|\n",
      "| Chevrolet|  Express 2500|                 2020-01-31|\n",
      "+----------+--------------+---------------------------+\n",
      "only showing top 20 rows\n",
      "\n"
     ]
    }
   ],
   "source": [
    "spark.sql(\"SELECT f_brand, f_model, f_release_date + 1 \"\\\n",
    "          \"  FROM cars_explicit_schema \")\\\n",
    ".show()"
   ]
  },
  {
   "cell_type": "markdown",
   "id": "c975d8b5",
   "metadata": {},
   "source": [
    "Notice the difference, when we process the data with inferred schema, where date considered as string."
   ]
  },
  {
   "cell_type": "code",
   "execution_count": 16,
   "id": "f76c6bee",
   "metadata": {},
   "outputs": [
    {
     "name": "stdout",
     "output_type": "stream",
     "text": [
      "root\n",
      " |-- brand: string (nullable = true)\n",
      " |-- model: string (nullable = true)\n",
      " |-- release_date: string (nullable = true)\n",
      " |-- price: string (nullable = true)\n",
      "\n"
     ]
    }
   ],
   "source": [
    "df_spark_with_header.createOrReplaceTempView(\"cars_inferred_schema\")\n",
    "df_spark_with_header.printSchema()"
   ]
  },
  {
   "cell_type": "code",
   "execution_count": 23,
   "id": "e5c7473c",
   "metadata": {},
   "outputs": [
    {
     "name": "stdout",
     "output_type": "stream",
     "text": [
      "+----------+--------------+------------------+\n",
      "|     brand|         model|(release_date + 1)|\n",
      "+----------+--------------+------------------+\n",
      "|      Audi|            A8|              null|\n",
      "|     Volvo|           C70|              null|\n",
      "|      Ford|          F450|              null|\n",
      "|Mitsubishi|        Tredia|              null|\n",
      "|       Kia|           Rio|              null|\n",
      "|     Buick|   Park Avenue|              null|\n",
      "|       Kia|           Rio|              null|\n",
      "|      Ford|          Edge|              null|\n",
      "| Chevrolet|        Camaro|              null|\n",
      "|      Audi|4000CS Quattro|              null|\n",
      "|Mitsubishi|      Diamante|              null|\n",
      "|     Acura|            CL|              null|\n",
      "|     Dodge|        Dakota|              null|\n",
      "|     Buick|       Century|              null|\n",
      "|Mitsubishi|        Pajero|              null|\n",
      "|Oldsmobile|    Silhouette|              null|\n",
      "|     Mazda|      B-Series|              null|\n",
      "|      Ford|      F-Series|              null|\n",
      "|  Infiniti|            QX|              null|\n",
      "| Chevrolet|  Express 2500|              null|\n",
      "+----------+--------------+------------------+\n",
      "only showing top 20 rows\n",
      "\n"
     ]
    }
   ],
   "source": [
    "spark.sql(\"SELECT brand, model, release_date + 1\"\\\n",
    "          \"  FROM cars_inferred_schema \")\\\n",
    ".show()"
   ]
  },
  {
   "cell_type": "markdown",
   "id": "1bfa707f",
   "metadata": {},
   "source": [
    "Inferred schema sometimes gives expected value, but better not to rely on them unless you're sure. See the price column."
   ]
  },
  {
   "cell_type": "code",
   "execution_count": 19,
   "id": "9193e77b",
   "metadata": {},
   "outputs": [
    {
     "name": "stdout",
     "output_type": "stream",
     "text": [
      "+----------+--------------+------------------+-----------+\n",
      "|     brand|         model|(release_date + 1)|(price / 2)|\n",
      "+----------+--------------+------------------+-----------+\n",
      "|      Audi|            A8|              null|     9346.0|\n",
      "|     Volvo|           C70|              null|    11698.0|\n",
      "|      Ford|          F450|              null|    11905.5|\n",
      "|Mitsubishi|        Tredia|              null|     8517.5|\n",
      "|       Kia|           Rio|              null|     8460.5|\n",
      "|     Buick|   Park Avenue|              null|    10139.0|\n",
      "|       Kia|           Rio|              null|     9813.5|\n",
      "|      Ford|          Edge|              null|     8326.5|\n",
      "| Chevrolet|        Camaro|              null|     8688.0|\n",
      "|      Audi|4000CS Quattro|              null|     8247.0|\n",
      "|Mitsubishi|      Diamante|              null|    12144.0|\n",
      "|     Acura|            CL|              null|     9498.0|\n",
      "|     Dodge|        Dakota|              null|    10817.0|\n",
      "|     Buick|       Century|              null|    10720.5|\n",
      "|Mitsubishi|        Pajero|              null|     8336.0|\n",
      "|Oldsmobile|    Silhouette|              null|     8932.0|\n",
      "|     Mazda|      B-Series|              null|    10013.5|\n",
      "|      Ford|      F-Series|              null|    11703.5|\n",
      "|  Infiniti|            QX|              null|    10554.0|\n",
      "| Chevrolet|  Express 2500|              null|    11678.5|\n",
      "+----------+--------------+------------------+-----------+\n",
      "only showing top 20 rows\n",
      "\n"
     ]
    }
   ],
   "source": [
    "spark.sql(\"SELECT brand, model, release_date + 1, price / 2 \"\\\n",
    "          \"  FROM cars_inferred_schema\")\\\n",
    ".show()"
   ]
  },
  {
   "cell_type": "markdown",
   "id": "277036c8",
   "metadata": {},
   "source": [
    "Same result with explicit schema"
   ]
  },
  {
   "cell_type": "code",
   "execution_count": 20,
   "id": "ae75bc1d",
   "metadata": {},
   "outputs": [
    {
     "name": "stdout",
     "output_type": "stream",
     "text": [
      "+----------+--------------+-------------+\n",
      "|   f_brand|       f_model|(f_price / 2)|\n",
      "+----------+--------------+-------------+\n",
      "|      Audi|            A8|       9346.0|\n",
      "|     Volvo|           C70|      11698.0|\n",
      "|      Ford|          F450|      11905.5|\n",
      "|Mitsubishi|        Tredia|       8517.5|\n",
      "|       Kia|           Rio|       8460.5|\n",
      "|     Buick|   Park Avenue|      10139.0|\n",
      "|       Kia|           Rio|       9813.5|\n",
      "|      Ford|          Edge|       8326.5|\n",
      "| Chevrolet|        Camaro|       8688.0|\n",
      "|      Audi|4000CS Quattro|       8247.0|\n",
      "|Mitsubishi|      Diamante|      12144.0|\n",
      "|     Acura|            CL|       9498.0|\n",
      "|     Dodge|        Dakota|      10817.0|\n",
      "|     Buick|       Century|      10720.5|\n",
      "|Mitsubishi|        Pajero|       8336.0|\n",
      "|Oldsmobile|    Silhouette|       8932.0|\n",
      "|     Mazda|      B-Series|      10013.5|\n",
      "|      Ford|      F-Series|      11703.5|\n",
      "|  Infiniti|            QX|      10554.0|\n",
      "| Chevrolet|  Express 2500|      11678.5|\n",
      "+----------+--------------+-------------+\n",
      "only showing top 20 rows\n",
      "\n"
     ]
    }
   ],
   "source": [
    "spark.sql(\"SELECT f_brand, f_model, f_price / 2 \"\\\n",
    "          \"  FROM cars_explicit_schema\")\\\n",
    ".show()"
   ]
  }
 ],
 "metadata": {
  "kernelspec": {
   "display_name": "Python 3 (ipykernel)",
   "language": "python",
   "name": "python3"
  },
  "language_info": {
   "codemirror_mode": {
    "name": "ipython",
    "version": 3
   },
   "file_extension": ".py",
   "mimetype": "text/x-python",
   "name": "python",
   "nbconvert_exporter": "python",
   "pygments_lexer": "ipython3",
   "version": "3.9.7"
  }
 },
 "nbformat": 4,
 "nbformat_minor": 5
}
