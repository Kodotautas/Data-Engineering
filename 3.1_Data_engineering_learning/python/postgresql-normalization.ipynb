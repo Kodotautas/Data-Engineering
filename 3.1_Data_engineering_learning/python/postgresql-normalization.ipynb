{
 "cells": [ 
  {
   "cell_type": "markdown",
   "id": "09dee6a0",
   "metadata": {},
   "source": [
    "# Demo : Database Normalization"
   ]
  },
  {
   "cell_type": "markdown",
   "id": "7d6c54fd",
   "metadata": {},
   "source": [
    "In this demo, we will see how to create normalized database for the previous hero/villain teams.  \n",
    "  \n",
    "We will learn how to:\n",
    "  1. Create tables and relationships in Postgresql\n",
    "  2. Insert rows\n",
    "  3. Do a simple JOIN SQL query to show how these normalized tables can work together\n",
    "  \n",
    "This is the normalized database diagram we will use.\n",
    "\n",
    "<img src=\"img/postgresql-normalization-diagram.png\" alt=\"postgresql-normalization-diagram\" width=\"600\" align=\"left\"/>"
   ]
  },
  {
   "cell_type": "markdown",
   "id": "83e4fa9a",
   "metadata": {},
   "source": [
    "### NOTE : before start, make sure you already can connect to Postgresql instance. See [previous demo](postgresql-connect.ipynb) for sample"
   ]
  },
  {
   "cell_type": "markdown",
   "id": "35897864",
   "metadata": {},
   "source": [
    "Import library and open connection."
   ]
  },
  {
   "cell_type": "code",
   "execution_count": null,
   "id": "2f836dc3",
   "metadata": {},
   "outputs": [],
   "source": [
    "import psycopg2"
   ]
  },
  {
   "cell_type": "markdown",
   "id": "b46b5dbb",
   "metadata": {},
   "source": [
    "This one is required for sample later."
   ]
  },
  {
   "cell_type": "code",
   "execution_count": null,
   "id": "39440fa5",
   "metadata": {},
   "outputs": [],
   "source": [
    "import psycopg2.extras"
   ]
  },
  {
   "cell_type": "markdown",
   "id": "78781e63",
   "metadata": {},
   "source": [
    "Open connection to postgresql server (adjust the connection string according to your environment), then get cursor to execute SQL queries later."
   ]
  },
  {
   "cell_type": "code",
   "execution_count": null,
   "id": "8e15e0ee",
   "metadata": {},
   "outputs": [],
   "source": [
    "try: \n",
    "    conn = psycopg2.connect(\"host=127.0.0.1 dbname=postgres user=postgres password=postgres\")\n",
    "    conn.set_session(autocommit=True)\n",
    "    \n",
    "    # Open cursor\n",
    "    cur = conn.cursor()\n",
    "except Exception as e: \n",
    "    print(\"Error: cannot open cursor for SQL interaction\")\n",
    "    print(e)"
   ]
  },
  {
   "cell_type": "markdown",
   "id": "d9f3fef5",
   "metadata": {},
   "source": [
    "Drop tables (just in case if they exists)"
   ]
  },
  {
   "cell_type": "code",
   "execution_count": null,
   "id": "9b8c53b0",
   "metadata": {},
   "outputs": [],
   "source": [
    "try: \n",
    "    cur.execute(\"DROP TABLE IF EXISTS homelands CASCADE\");\n",
    "    cur.execute(\"DROP TABLE IF EXISTS superpowers CASCADE\");\n",
    "    cur.execute(\"DROP TABLE IF EXISTS member_superpowers CASCADE\");\n",
    "    cur.execute(\"DROP TABLE IF EXISTS members CASCADE\");\n",
    "    cur.execute(\"DROP TABLE IF EXISTS headquarters CASCADE\");\n",
    "    cur.execute(\"DROP TABLE IF EXISTS teams CASCADE\");\n",
    "    print(\"Success: tables dropped\")\n",
    "except Exception as e: \n",
    "    print(\"Error: cannot drop tables\")\n",
    "    print (e)"
   ]
  },
  {
   "cell_type": "markdown",
   "id": "a03d305d",
   "metadata": {},
   "source": [
    "Create table `teams`.  \n",
    "For simplicity, all columns will be nullable (except primary key) and does not have any constraint."
   ]
  },
  {
   "cell_type": "code",
   "execution_count": null,
   "id": "24cadb43",
   "metadata": {},
   "outputs": [],
   "source": [
    "try:\n",
    "    cur.execute(\"\"\"\n",
    "        CREATE TABLE teams (\n",
    "            team_id SERIAL PRIMARY KEY,\n",
    "            team_name VARCHAR,\n",
    "            is_hero BOOLEAN,\n",
    "            origin VARCHAR);\n",
    "    \"\"\")\n",
    "    print(\"Success : table created\")\n",
    "except Exception as e:\n",
    "    print(\"Error: cannot create table\")\n",
    "    print(e)"
   ]
  },
  {
   "cell_type": "markdown",
   "id": "246ae969",
   "metadata": {},
   "source": [
    "Create table `headquarters`.   \n",
    "For simplicity, all columns will be nullable (except primary key) and does not have any constraint."
   ]
  },
  {
   "cell_type": "code",
   "execution_count": null,
   "id": "85f4e383",
   "metadata": {},
   "outputs": [],
   "source": [
    "try:\n",
    "    cur.execute(\"\"\"\n",
    "        CREATE TABLE headquarters (\n",
    "            team_id INTEGER NOT NULL REFERENCES teams,\n",
    "            headquarter_id SERIAL PRIMARY KEY,\n",
    "            name VARCHAR,\n",
    "            location VARCHAR);\n",
    "    \"\"\")\n",
    "    print(\"Success : table created\")\n",
    "except Exception as e:\n",
    "    print(\"Error: cannot create table\")\n",
    "    print(e)"
   ]
  },
  {
   "cell_type": "markdown",
   "id": "5b51992e",
   "metadata": {},
   "source": [
    "Create table `members`.  \n",
    "For simplicity, all columns will be nullable (except primary key) and does not have any constraint."
   ]
  },
  {
   "cell_type": "code",
   "execution_count": null,
   "id": "c3eb9fba",
   "metadata": {},
   "outputs": [],
   "source": [
    "try:\n",
    "    cur.execute(\"\"\"\n",
    "        CREATE TABLE members (\n",
    "            team_id INTEGER NOT NULL REFERENCES teams,\n",
    "            member_id SERIAL PRIMARY KEY,\n",
    "            name VARCHAR,\n",
    "            real_name VARCHAR,\n",
    "            alias VARCHAR);\n",
    "    \"\"\")\n",
    "    print(\"Success : table created\")\n",
    "except Exception as e:\n",
    "    print(\"Error: cannot create table\")\n",
    "    print(e)"
   ]
  },
  {
   "cell_type": "markdown",
   "id": "0a641d07",
   "metadata": {},
   "source": [
    "Create table `superpowers`.  \n",
    "For simplicity, all columns will be nullable (except primary key) and does not have any constraint."
   ]
  },
  {
   "cell_type": "code",
   "execution_count": null,
   "id": "5fe8649d",
   "metadata": {},
   "outputs": [],
   "source": [
    "try:\n",
    "    cur.execute(\"\"\"\n",
    "        CREATE TABLE superpowers (\n",
    "            superpower_id SERIAL PRIMARY KEY,\n",
    "            name VARCHAR,\n",
    "            description VARCHAR);\n",
    "    \"\"\")\n",
    "    print(\"Success : table created\")\n",
    "except Exception as e:\n",
    "    print(\"Error: cannot create table\")\n",
    "    print(e)"
   ]
  },
  {
   "cell_type": "markdown",
   "id": "76e004b0",
   "metadata": {},
   "source": [
    "Create table `member_superpowers`. This table is many-to-many join table between `members` and `superpowers`."
   ]
  },
  {
   "cell_type": "code",
   "execution_count": null,
   "id": "62273d27",
   "metadata": {},
   "outputs": [],
   "source": [
    "try:\n",
    "    cur.execute(\"\"\"\n",
    "        CREATE TABLE member_superpowers (\n",
    "            member_id INTEGER NOT NULL REFERENCES members,\n",
    "            superpower_id INTEGER NOT NULL REFERENCES superpowers);\n",
    "    \"\"\")\n",
    "    print(\"Success : table created\")\n",
    "except Exception as e:\n",
    "    print(\"Error: cannot create table\")\n",
    "    print(e)"
   ]
  },
  {
   "cell_type": "markdown",
   "id": "1f4b9ac8",
   "metadata": {},
   "source": [
    "Create table `homelands`.  \n",
    "For simplicity, all columns will be nullable (except primary key) and does not have any constraint."
   ]
  },
  {
   "cell_type": "code",
   "execution_count": null,
   "id": "07926ea2",
   "metadata": {},
   "outputs": [],
   "source": [
    "try:\n",
    "    cur.execute(\"\"\"\n",
    "        CREATE TABLE homelands (\n",
    "            homeland_id SERIAL PRIMARY KEY,\n",
    "            name VARCHAR,\n",
    "            is_exists BOOLEAN);\n",
    "    \"\"\")\n",
    "    print(\"Success : table created\")\n",
    "except Exception as e:\n",
    "    print(\"Error: cannot create table\")\n",
    "    print(e)"
   ]
  },
  {
   "cell_type": "markdown",
   "id": "4255fdba",
   "metadata": {},
   "source": [
    "Add relationship between `members` and `homelands`, using `homeland_id` as foreign key."
   ]
  },
  {
   "cell_type": "code",
   "execution_count": null,
   "id": "6e22f919",
   "metadata": {},
   "outputs": [],
   "source": [
    "try:\n",
    "    cur.execute(\"\"\"\n",
    "        ALTER TABLE members \n",
    "            ADD COLUMN homeland_id INTEGER REFERENCES homelands\n",
    "    \"\"\")\n",
    "    print(\"Success : table relationship created\")\n",
    "except Exception as e:\n",
    "    print(\"Error: cannot create table relationship\")\n",
    "    print(e)"
   ]
  },
  {
   "cell_type": "markdown",
   "id": "0d1c21e9",
   "metadata": {},
   "source": [
    "Insert several teams for sample."
   ]
  },
  {
   "cell_type": "code",
   "execution_count": null,
   "id": "d6543405",
   "metadata": {},
   "outputs": [],
   "source": [
    "try:\n",
    "    cur.execute(\"INSERT INTO teams(team_name, is_hero, origin) VALUES (%s, %s, %s)\",\n",
    "            (\"Avengers\", True, \"Marvel\"))\n",
    "    cur.execute(\"INSERT INTO teams(team_name, is_hero, origin) VALUES (%s, %s, %s)\",\n",
    "            (\"Justice League\", True, \"DC\"))\n",
    "    print(\"Success : data inserted\")\n",
    "except Exception as e:\n",
    "    print(\"Error: cannot insert data\")\n",
    "    print(e)"
   ]
  },
  {
   "cell_type": "markdown",
   "id": "fa34df83",
   "metadata": {},
   "source": [
    "Insert _Avengers_ headquarters."
   ]
  },
  {
   "cell_type": "code",
   "execution_count": null,
   "id": "32f15bc0",
   "metadata": {},
   "outputs": [],
   "source": [
    "try:\n",
    "    cur.execute(\"SELECT team_id FROM teams WHERE LOWER(team_name) = LOWER(%s)\", (\"Avengers\",))\n",
    "    team_id = cur.fetchone()[0]\n",
    "\n",
    "    sql = \"INSERT INTO headquarters(name, location, team_id) VALUES(%s, %s, %s)\"\n",
    "\n",
    "    cur.execute(sql, (\"Avengers Tower\", \"New York\", team_id))\n",
    "    cur.execute(sql, (\"New Avengers Facility\", \"New York\", team_id))\n",
    "\n",
    "    print(\"Success : data inserted\")\n",
    "except Exception as e:\n",
    "    print(\"Error: cannot insert data\")\n",
    "    print(e)"
   ]
  },
  {
   "cell_type": "markdown",
   "id": "418fe51e",
   "metadata": {},
   "source": [
    "Insert _Justice League_ headquarters."
   ]
  },
  {
   "cell_type": "code",
   "execution_count": null,
   "id": "0b577499",
   "metadata": {},
   "outputs": [],
   "source": [
    "try:\n",
    "    cur.execute(\"SELECT team_id FROM teams WHERE LOWER(team_name) = LOWER(%s)\", (\"Justice League\",))\n",
    "    team_id = cur.fetchone()[0]\n",
    "\n",
    "    cur.execute(\"INSERT INTO headquarters(name, location, team_id) VALUES(%s, %s, %s)\", \n",
    "                (\"Justice League Watchtower\", \"Earth's Moon\", team_id))\n",
    "\n",
    "    print(\"Success : data inserted\")\n",
    "except Exception as e:\n",
    "    print(\"Error: cannot insert data\")\n",
    "    print(e)"
   ]
  },
  {
   "cell_type": "markdown",
   "id": "e5da778b",
   "metadata": {},
   "source": [
    "Insert several _Avengers_ members. We can also insert from Python list, where each list element is Python tuple (or list) containing record to be inserted."
   ]
  },
  {
   "cell_type": "code",
   "execution_count": null,
   "id": "b72e639e",
   "metadata": {},
   "outputs": [],
   "source": [
    "members = [\n",
    "    (\"Captain Marvel\", \"Carol Danvers\", \"Vers\"),\n",
    "    (\"Black Panther\", \"T'Challa\", \"King of Wakanda\")\n",
    "]"
   ]
  },
  {
   "cell_type": "code",
   "execution_count": null,
   "id": "7ff88b9a",
   "metadata": {},
   "outputs": [],
   "source": [
    "try:    \n",
    "    # get Avengers team ID\n",
    "    # note that the parameter is Python tuple\n",
    "    cur.execute(\"SELECT team_id FROM teams WHERE LOWER(team_name) = LOWER(%s)\", (\"Avengers\",))\n",
    "    team_id = cur.fetchone()[0]\n",
    "    \n",
    "    for member in members:\n",
    "        cur.execute(\"\"\"\n",
    "            INSERT INTO members(team_id, name, real_name, alias) VALUES({}, %s, %s, %s) \n",
    "        \"\"\".format(team_id), member)\n",
    "    \n",
    "    print(\"Success : {} data inserted\".format(len(members)))\n",
    "except Exception as e:\n",
    "    print(\"Error: cannot insert data\")\n",
    "    print(e)"
   ]
  },
  {
   "cell_type": "markdown",
   "id": "63dc7524",
   "metadata": {},
   "source": [
    "Let's insert few _Justice League_ members. See, we can also use list of list for parameter."
   ]
  },
  {
   "cell_type": "code",
   "execution_count": null,
   "id": "c19ffbd9",
   "metadata": {},
   "outputs": [],
   "source": [
    "members = [\n",
    "    [\"Batman\", \"Bruce Wayne\", \"World's Greatest Detective\"],\n",
    "    [\"Wonder Woman\", \"Diana Prince\", \"Princess of Amazon\"]\n",
    "]"
   ]
  },
  {
   "cell_type": "markdown",
   "id": "6dbc19cf",
   "metadata": {},
   "source": [
    "This time, use `cur.executemany()` instead of looping list."
   ]
  },
  {
   "cell_type": "code",
   "execution_count": null,
   "id": "5f79769b",
   "metadata": {},
   "outputs": [],
   "source": [
    "try:    \n",
    "    # get Justice League team ID\n",
    "    cur.execute(\"SELECT team_id FROM teams WHERE LOWER(team_name) = LOWER(%s)\", (\"Justice League\",))\n",
    "    team_id = cur.fetchone()[0]\n",
    "    \n",
    "    # Use executemany with list as parameter\n",
    "    cur.executemany(\"\"\"\n",
    "        INSERT INTO members(team_id, name, real_name, alias) VALUES({}, %s, %s, %s) \n",
    "    \"\"\".format(team_id), members)\n",
    "    \n",
    "    print(\"Success : {} data inserted\".format(len(members)))\n",
    "except Exception as e:\n",
    "    print(\"Error: cannot insert data\")\n",
    "    print(e)"
   ]
  },
  {
   "cell_type": "markdown",
   "id": "0376d03c",
   "metadata": {},
   "source": [
    "Insert some homelands.  \n",
    "If we work with thousands of data and need fast insert performance, we can also use `execute_batch` from `psycopg2.extras`."
   ]
  },
  {
   "cell_type": "code",
   "execution_count": null,
   "id": "4e6100a7",
   "metadata": {},
   "outputs": [],
   "source": [
    "homelands = [\n",
    "    (\"Themyscira\", True), (\"Gotham City\", True), (\"Wakanda\", True), (\"Boston\", True)\n",
    "]\n",
    "\n",
    "try:\n",
    "    psycopg2.extras.execute_batch(cur, \"INSERT INTO homelands(name, is_exists) VALUES(%s, %s)\", homelands)\n",
    "    \n",
    "    print(\"Success : {} data inserted\".format(len(homelands)))\n",
    "except Exception as e:\n",
    "    print(\"Error: cannot insert data\")\n",
    "    print(e)    "
   ]
  },
  {
   "cell_type": "markdown",
   "id": "dacdcb8b",
   "metadata": {},
   "source": [
    "Now that we have homelands, let's relate each member with their homeland."
   ]
  },
  {
   "cell_type": "code",
   "execution_count": null,
   "id": "befd22f7",
   "metadata": {},
   "outputs": [],
   "source": [
    "try:\n",
    "    sql = \"\"\"\n",
    "        UPDATE members m \n",
    "            SET homeland_id = (\n",
    "                SELECT homeland_id FROM homelands h where LOWER(h.name) = lower(%s)\n",
    "            )\n",
    "        WHERE LOWER(m.name) = LOWER(%s)\"\"\"\n",
    "\n",
    "    cur.execute(sql, (\"Gotham City\", \"Batman\"))\n",
    "    cur.execute(sql, (\"Themyscira\", \"Wonder Woman\"))\n",
    "    cur.execute(sql, (\"Wakanda\", \"Black Panther\"))\n",
    "    cur.execute(sql, (\"Boston\", \"Captain Marvel\"))\n",
    "    \n",
    "    print(\"Success : Relationship updated\")\n",
    "except Exception as e:\n",
    "    print(\"Error: cannot update data\")\n",
    "    print(e) "
   ]
  },
  {
   "cell_type": "markdown",
   "id": "3f7656ef",
   "metadata": {},
   "source": [
    "Insert some superpowers."
   ]
  },
  {
   "cell_type": "code",
   "execution_count": null,
   "id": "132f91e5",
   "metadata": {},
   "outputs": [],
   "source": [
    "superpowers = [\n",
    "    (\"Super strength\", \"Extraordinary strength\"),\n",
    "    (\"Rich\", \"Money is the real power\"),\n",
    "    (\"Flight\", \"Able to fly off the ground\"),\n",
    "    (\"Super speed\", \"Move very fast\"),\n",
    "    (\"Energy projection\", \"Who needs guns if you can blast heatwave from your hand?\")\n",
    "]\n",
    "\n",
    "try:    \n",
    "    cur.executemany(\"\"\"\n",
    "        INSERT INTO superpowers(name, description) VALUES(%s, %s) \n",
    "    \"\"\", superpowers)\n",
    "    \n",
    "    print(\"Success : {} data inserted\".format(len(superpowers)))\n",
    "except Exception as e:\n",
    "    print(\"Error: cannot insert data\")\n",
    "    print(e)"
   ]
  },
  {
   "cell_type": "markdown",
   "id": "d72feba9",
   "metadata": {},
   "source": [
    "Put some superpowers to those people, using many-to-many join table (`member_superpowers`)\n",
    "  - Wonder Woman : flight, super strength\n",
    "  - Batman : rich\n",
    "  - Black Panther : rich, super strength\n",
    "  - Captain Marvel : flight, energy projection, super strength"
   ]
  },
  {
   "cell_type": "code",
   "execution_count": null,
   "id": "1c7dd713",
   "metadata": {},
   "outputs": [],
   "source": [
    "member_superpowers = [\n",
    "    ('Wonder Woman', 'Flight'),\n",
    "    ('Wonder Woman', 'Super strength'),\n",
    "    ('Batman', 'Rich'),\n",
    "    ('Black Panther', 'Rich'),\n",
    "    ('Black Panther', 'Super strength'),\n",
    "    ('Captain Marvel', 'Flight'),\n",
    "    ('Captain Marvel', 'Energy projection'),\n",
    "    ('Captain Marvel', 'Super strength'),\n",
    "]\n",
    "\n",
    "try:\n",
    "    sql = \"\"\"\n",
    "        INSERT INTO member_superpowers (member_id, superpower_id)\n",
    "        VALUES(\n",
    "            (SELECT member_id FROM members m WHERE lower(m.name) = lower(%s)),\n",
    "            (SELECT superpower_id FROM superpowers s WHERE lower(s.name) = lower(%s)))\n",
    "    \"\"\"\n",
    "    \n",
    "    cur.executemany(sql, member_superpowers)\n",
    "    \n",
    "    print(\"Success : {} data inserted\".format(len(member_superpowers)))\n",
    "except Exception as e:\n",
    "    print(\"Error: cannot insert data\")\n",
    "    print(e)"
   ]
  },
  {
   "cell_type": "markdown",
   "id": "1f888191",
   "metadata": {},
   "source": [
    "### Great Job! Data Sample Inserted.\n",
    "\n",
    "Our sample data were all inserted.  \n",
    "Let's do some simple SQL `SELECT`."
   ]
  },
  {
   "cell_type": "markdown",
   "id": "d0071c34",
   "metadata": {},
   "source": [
    "Get team and their headquarters."
   ]
  },
  {
   "cell_type": "code",
   "execution_count": null,
   "id": "3da5f589",
   "metadata": {},
   "outputs": [],
   "source": [
    "try:\n",
    "    sql = \"\"\"\n",
    "        SELECT t.team_name, h.name, h.location\n",
    "        FROM teams t\n",
    "        INNER JOIN headquarters h ON t.team_id = h.team_id\n",
    "    \"\"\"\n",
    "    \n",
    "    cur.execute(sql)\n",
    "    \n",
    "    for row in cur.fetchall():\n",
    "        print(row)\n",
    "except Exception as e:\n",
    "    print(\"Error: cannot select data\")\n",
    "    print(e)"
   ]
  },
  {
   "cell_type": "markdown",
   "id": "815c0aff",
   "metadata": {},
   "source": [
    "Get each member's superpowers."
   ]
  },
  {
   "cell_type": "code",
   "execution_count": null,
   "id": "c62872ea",
   "metadata": {},
   "outputs": [],
   "source": [
    "try:\n",
    "    sql = \"\"\"\n",
    "        SELECT\n",
    "            m.name, m.alias, s.name, s.description\n",
    "        FROM members m\n",
    "        INNER JOIN member_superpowers ms ON\n",
    "            m.member_id = ms.member_id\n",
    "        INNER JOIN superpowers s ON\n",
    "            s.superpower_id = ms.superpower_id\n",
    "        ORDER BY m.name, s.name\n",
    "    \"\"\"\n",
    "    \n",
    "    cur.execute(sql)\n",
    "    \n",
    "    for m_name, m_alias, s_name, s_desc in cur.fetchall():\n",
    "        print(\"{}, also known as {}, has superpower '{}', which means {}\".format(m_name, m_alias, s_name, s_desc))\n",
    "except Exception as e:\n",
    "    print(\"Error: cannot select data\")\n",
    "    print(e)"
   ]
  },
  {
   "cell_type": "markdown",
   "id": "e5057cfe",
   "metadata": {},
   "source": [
    "Get full team data, including their superpowers."
   ]
  },
  {
   "cell_type": "code",
   "execution_count": null,
   "id": "69772847",
   "metadata": {},
   "outputs": [],
   "source": [
    "try:\n",
    "    sql = \"\"\"\n",
    "        SELECT t.team_name, t.origin, m.name, m.alias, h.name, s.name\n",
    "        FROM teams t\n",
    "        INNER JOIN members m ON\n",
    "            m.team_id = t.team_id\n",
    "        INNER JOIN member_superpowers ms ON\n",
    "            m.member_id = ms.member_id\n",
    "        INNER JOIN superpowers s ON\n",
    "            s.superpower_id = ms.superpower_id\n",
    "        INNER JOIN homelands h ON\n",
    "            h.homeland_id = m.homeland_id\n",
    "        ORDER BY t.team_name, m.name\n",
    "    \"\"\"\n",
    "    \n",
    "    cur.execute(sql)\n",
    "    res = cur.fetchall();\n",
    "    \n",
    "    print(\"Found {} data\\n\".format(len(res)))\n",
    "    \n",
    "    for row in res:\n",
    "        print(row)\n",
    "except Exception as e:\n",
    "    print(\"Error: cannot select data\")\n",
    "    print(e)"
   ]
  }
 ],
 "metadata": {
  "kernelspec": {
   "display_name": "Python 3 (ipykernel)",
   "language": "python",
   "name": "python3"
  },
  "language_info": {
   "codemirror_mode": {
    "name": "ipython",
    "version": 3
   },
   "file_extension": ".py",
   "mimetype": "text/x-python",
   "name": "python",
   "nbconvert_exporter": "python",
   "pygments_lexer": "ipython3",
   "version": "3.9.6"
  }
 },
 "nbformat": 4,
 "nbformat_minor": 5
}
