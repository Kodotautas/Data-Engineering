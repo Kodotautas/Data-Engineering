{
 "cells": [
  {
   "cell_type": "markdown",
   "id": "9d09d8ee",
   "metadata": {},
   "source": [
    "# Recap Data Engineering Course\n",
    "\n",
    "## Step 1: Scope the Project and Gather Data\n",
    "This is developed for movie dataset.  \n",
    "The dataset comes from kaggle. There are two sources used:\n",
    "  - **A** : [IMDB summary (ratings)](https://www.kaggle.com/stefanoleone992/imdb-extensive-dataset): which contains movie details, reviews (score), people involved and people role.\n",
    "  - **B** : [IMDB plots & spoilers](https://www.kaggle.com/rmisra/imdb-spoiler-dataset): which contains plots & synopsys.\n",
    "\n",
    "The dataset contains those files:\n",
    "  - movie summary (score) : *IMDb_movies.csv*\n",
    "  - movie details (plots, synopsys) : *IMDb_movies_details.jsonl*\n",
    "  - people involved in movie making (actors, directors) : *IMDb_names.csv*\n",
    "  - ratings summary : *IMDb_ratings.csv*\n",
    "  - movie plots / synopsys : *IMDb_reviews.jsonl*\n",
    "  - people role in each movie : *IMDb_title_principals.csv*\n",
    "  \n",
    "The csv files came from [**source A**](https://www.kaggle.com/stefanoleone992/imdb-extensive-dataset)  \n",
    "The jsonl files came from [**source B**](https://www.kaggle.com/rmisra/imdb-spoiler-dataset)\n",
    "\n",
    "For convenience, I also provides the csv and jsonl files on [cloud storage](https://storage.googleapis.com/course_data_engineering_sample_data/) "
   ]
  },
  {
   "cell_type": "code",
   "execution_count": null,
   "id": "c0ff3f7d",
   "metadata": {},
   "outputs": [],
   "source": [
    "import pandas as pd\n",
    "from pyspark.sql import SparkSession\n",
    "from pyspark.sql.functions import udf\n",
    "\n",
    "import os\n",
    "import sys"
   ]
  },
  {
   "cell_type": "markdown",
   "id": "1281d478",
   "metadata": {},
   "source": [
    "Required if at some point you got error `java.io.IOException: Cannot run program \"python3\": CreateProcess error=2, The system cannot find the file specified`"
   ]
  },
  {
   "cell_type": "code",
   "execution_count": null,
   "id": "cbdf9e24",
   "metadata": {},
   "outputs": [],
   "source": [
    "os.environ['PYSPARK_PYTHON'] = sys.executable\n",
    "os.environ['PYSPARK_DRIVER_PYTHON'] = sys.executable"
   ]
  },
  {
   "cell_type": "markdown",
   "id": "b0528330",
   "metadata": {},
   "source": [
    "Files are stored on cloud (S3 public storage). **Since we are taking data from cloud, expect a longer load time (need time to download the files).**"
   ]
  },
  {
   "cell_type": "code",
   "execution_count": null,
   "id": "0ddaec89",
   "metadata": {},
   "outputs": [],
   "source": [
    "movies_file = \"gs://course_data_engineering_sample_data/movie-datasets/IMDb_movies.gz\"\n",
    "names_file = \"gs://course_data_engineering_sample_data/movie-datasets/IMDb_names.gz\"\n",
    "ratings_file = \"gs://course_data_engineering_sample_data/movie-datasets/IMDb_ratings.gz\"\n",
    "title_principals_file = \"gs://course_data_engineering_sample_data/movie-datasets/IMDb_title_principals.gz\"\n",
    "movie_details_file = \"gs://course_data_engineering_sample_data/movie-datasets/IMDb_movie_details.gz\"\n",
    "reviews_file = \"gs://course_data_engineering_sample_data/movie-datasets/IMDb_reviews.gz\""
   ]
  },
  {
   "cell_type": "markdown",
   "id": "ca9fc8cf",
   "metadata": {},
   "source": [
    "If you using local files, unzip the `movie-datasets.zip` and `movie-datasets2.zip` from lecture resource (last section of the course).\n",
    "Then uncommment and use the following lines (adjust path if neccessary)."
   ]
  },
  {
   "cell_type": "code",
   "execution_count": null,
   "id": "d7dd7ce9",
   "metadata": {},
   "outputs": [],
   "source": [
    "#movies_file = \"data/movie-datasets/IMDb_movies.gz\"\n",
    "#names_file = \"data/movie-datasets/IMDb_names.csv\"\n",
    "#ratings_file = \"data/movie-datasets/IMDb_ratings.csv\"\n",
    "#title_principals_file = \"data/movie-datasets/IMDb_title_principals.csv\"\n",
    "#movie_details_file = \"data/movie-datasets/IMDb_movies_details.gz\"\n",
    "#reviews_file = \"data/movie-datasets/IMDb_reviews.gz\""
   ]
  },
  {
   "cell_type": "markdown",
   "id": "d2acceac",
   "metadata": {},
   "source": [
    "### Google Cloud Storage Settings\n",
    "\n",
    "**Note** : If the above code failed, alternatively you can do the following steps.\n",
    "\n",
    "1. Go [here](https://cloud.google.com/dataproc/docs/concepts/connectors/cloud-storage#non-dataproc_clusters) and download Google Cloud Storage connector for hadoop. Use latest version. You will get jar file liike `gcs-connector-hadoop3-latest.jar`\n",
    "2. Paste the downloaded jar file into the pyspark folder in your local computer. If you install pyspark using `pip`, it will be in `$PYTHON_INSTALLATION_DIR/lib/site-packages/pyspark/jars`\n",
    "3. Go to [google cloud console](https://console.cloud.google.com/)\n",
    "4. Go to menu `IAM & admin` > `Service accounts`\n",
    "5. Create new service account, and give access as `Storage Object Viewer`\n",
    "6. Create and download new key (JSON) for that service account (e.g. `google-credential-key.json`)\n",
    "7. Set environment variable to the key file, like this\n",
    "\n",
    "```\n",
    "# Windows\n",
    "# From Start Menu > Environment Variables > add new variable GOOGLE_APPLICATION_CREDENTIALS\n",
    "# Or from terminal using this command\n",
    "set GOOGLE_APPLICATION_CREDENTIALS=\"path\\to\\your\\google-credential-key.json\"\n",
    "\n",
    "# Linux\n",
    "export GOOGLE_APPLICATION_CREDENTIALS=\"path/to/your/google-credential-key.json\"\n",
    "```\n",
    "8. Restart jupyter notebook"
   ]
  },
  {
   "cell_type": "markdown",
   "id": "513d29e3",
   "metadata": {},
   "source": [
    "Open Spark session"
   ]
  },
  {
   "cell_type": "code",
   "execution_count": null,
   "id": "bb79d594",
   "metadata": {},
   "outputs": [],
   "source": [
    "spark = SparkSession.builder.appName(\"Movies DB\").getOrCreate()"
   ]
  },
  {
   "cell_type": "markdown",
   "id": "ea56ff89",
   "metadata": {},
   "source": [
    "Read from csv and jsonl. Will take some time since the data is quite large."
   ]
  },
  {
   "cell_type": "code",
   "execution_count": null,
   "id": "8a2ab523",
   "metadata": {},
   "outputs": [],
   "source": [
    "movies_spark = spark.read.csv(movies_file, header=True)\n",
    "names_spark = spark.read.csv(names_file, header=True)\n",
    "ratings_spark = spark.read.csv(ratings_file, header=True)\n",
    "title_principals_spark = spark.read.csv(title_principals_file, header=True)\n",
    "movie_details_spark = spark.read.json(movie_details_file)\n",
    "reviews_spark = spark.read.json(reviews_file)"
   ]
  },
  {
   "cell_type": "markdown",
   "id": "031d55bb",
   "metadata": {},
   "source": [
    "All dataframes should be available by now. Try to check each of them."
   ]
  },
  {
   "cell_type": "code",
   "execution_count": null,
   "id": "13ef85cd",
   "metadata": {},
   "outputs": [],
   "source": [
    "movies_spark"
   ]
  },
  {
   "cell_type": "code",
   "execution_count": null,
   "id": "9dbc19f5",
   "metadata": {},
   "outputs": [],
   "source": [
    "names_spark"
   ]
  },
  {
   "cell_type": "code",
   "execution_count": null,
   "id": "f7954f71",
   "metadata": {},
   "outputs": [],
   "source": [
    "ratings_spark"
   ]
  },
  {
   "cell_type": "code",
   "execution_count": null,
   "id": "7d79b2eb",
   "metadata": {},
   "outputs": [],
   "source": [
    "title_principals_spark"
   ]
  },
  {
   "cell_type": "code",
   "execution_count": null,
   "id": "e5693eb5",
   "metadata": {},
   "outputs": [],
   "source": [
    "movie_details_spark"
   ]
  },
  {
   "cell_type": "code",
   "execution_count": null,
   "id": "b421110b",
   "metadata": {},
   "outputs": [],
   "source": [
    "reviews_spark"
   ]
  },
  {
   "cell_type": "markdown",
   "id": "fd92ba88",
   "metadata": {},
   "source": [
    "## Step 2: Explore and Assess the Data"
   ]
  },
  {
   "cell_type": "markdown",
   "id": "b9daa60e",
   "metadata": {},
   "source": [
    "Use spark SQL (just for conveninence)"
   ]
  },
  {
   "cell_type": "code",
   "execution_count": null,
   "id": "b4454e4d",
   "metadata": {},
   "outputs": [],
   "source": [
    "movies_spark.createOrReplaceTempView(\"movies_v\")\n",
    "names_spark.createOrReplaceTempView(\"names_v\")\n",
    "ratings_spark.createOrReplaceTempView(\"ratings_v\")\n",
    "title_principals_spark.createOrReplaceTempView(\"title_principals_v\")\n",
    "movie_details_spark.createOrReplaceTempView(\"movie_details_v\")\n",
    "reviews_spark.createOrReplaceTempView(\"reviews_v\")"
   ]
  },
  {
   "cell_type": "markdown",
   "id": "5c9c7aa1",
   "metadata": {},
   "source": [
    "Use pandas (just for convenience), take only sample data"
   ]
  },
  {
   "cell_type": "code",
   "execution_count": null,
   "id": "263a4a16",
   "metadata": {},
   "outputs": [],
   "source": [
    "movies = spark.sql(\"SELECT * FROM movies_v LIMIT 5000\").toPandas()\n",
    "names = spark.sql(\"SELECT * FROM names_v LIMIT 5000\").toPandas()\n",
    "ratings = spark.sql(\"SELECT * FROM ratings_v LIMIT 5000\").toPandas()\n",
    "title_principals = spark.sql(\"SELECT * FROM title_principals_v LIMIT 5000\").toPandas()\n",
    "movie_details = spark.sql(\"SELECT * FROM movie_details_v LIMIT 5000\").toPandas()\n",
    "reviews = spark.sql(\"SELECT * FROM reviews_v LIMIT 5000\").toPandas()"
   ]
  },
  {
   "cell_type": "markdown",
   "id": "d64f4323",
   "metadata": {},
   "source": [
    "### Analyze `movies` dataset\n",
    "\n",
    "Quick peek for `movies`"
   ]
  },
  {
   "cell_type": "code",
   "execution_count": null,
   "id": "8d2357bd",
   "metadata": {},
   "outputs": [],
   "source": [
    "movies.head()"
   ]
  },
  {
   "cell_type": "markdown",
   "id": "69640909",
   "metadata": {},
   "source": [
    "Let's check percentage of null values in each columnn (_cleaning_)"
   ]
  },
  {
   "cell_type": "code",
   "execution_count": null,
   "id": "57d18fa0",
   "metadata": {},
   "outputs": [],
   "source": [
    "s = movies.isnull().sum()/(len(movies)) * 100\n",
    "s.where(s > 0).dropna().sort_values(ascending=False)"
   ]
  },
  {
   "cell_type": "markdown",
   "id": "557a6ab0",
   "metadata": {},
   "source": [
    "Check duplicate value, use title id (_deduplication_)"
   ]
  },
  {
   "cell_type": "code",
   "execution_count": null,
   "id": "fbde19b6",
   "metadata": {},
   "outputs": [],
   "source": [
    "movies.duplicated(subset=[\"imdb_title_id\"]).sum()"
   ]
  },
  {
   "cell_type": "markdown",
   "id": "8f8e752e",
   "metadata": {},
   "source": [
    "Find out possible repeating columns (_key restructuring_)"
   ]
  },
  {
   "cell_type": "code",
   "execution_count": null,
   "id": "cb9e8428",
   "metadata": {},
   "outputs": [],
   "source": [
    "movies.dtypes.sort_index()"
   ]
  },
  {
   "cell_type": "markdown",
   "id": "b8c421d5",
   "metadata": {},
   "source": [
    "Some fields should be numeric, but it seems recognized as string. Let's see the sample data ignoring null (_data validation_)"
   ]
  },
  {
   "cell_type": "code",
   "execution_count": null,
   "id": "9ad90881",
   "metadata": {},
   "outputs": [],
   "source": [
    "movies[[\"avg_vote\", \"budget\", \"usa_gross_income\", \"worlwide_gross_income\"]].dropna().head()"
   ]
  },
  {
   "cell_type": "markdown",
   "id": "ed1767dc",
   "metadata": {},
   "source": [
    "Check if any column contains multiple values, hence violates 1NF (_key restructuring / splitting_).  \n",
    "Check if cell contains comma character."
   ]
  },
  {
   "cell_type": "code",
   "execution_count": null,
   "id": "c50fd0fe",
   "metadata": {},
   "outputs": [],
   "source": [
    "for col in movies:\n",
    "    if movies[col].astype(str).str.contains(\",\", na=False).any():\n",
    "        print(col)"
   ]
  },
  {
   "cell_type": "markdown",
   "id": "0388493c",
   "metadata": {},
   "source": [
    "Let's quick check whether `title` and `original_title` are all the same, or there is difference. (_deduplication_)"
   ]
  },
  {
   "cell_type": "code",
   "execution_count": null,
   "id": "3801db2a",
   "metadata": {},
   "outputs": [],
   "source": [
    "movies.loc[movies[\"title\"] != movies[\"original_title\"]].shape[0]"
   ]
  },
  {
   "cell_type": "markdown",
   "id": "6ecfef46",
   "metadata": {},
   "source": [
    "Quite a difference. Let's see the sample data to make sure (_deduplication_)"
   ]
  },
  {
   "cell_type": "code",
   "execution_count": null,
   "id": "1adbd9b4",
   "metadata": {
    "scrolled": true
   },
   "outputs": [],
   "source": [
    "movies.loc[movies[\"title\"] != movies[\"original_title\"]].head()"
   ]
  },
  {
   "cell_type": "markdown",
   "id": "ad57f17a",
   "metadata": {},
   "source": [
    "Are all `date_published` in yyyy-mm-dd format (_data validation_)"
   ]
  },
  {
   "cell_type": "code",
   "execution_count": null,
   "id": "3868e8ee",
   "metadata": {},
   "outputs": [],
   "source": [
    "movies.loc[movies[\"date_published\"].astype(str).str.len() != len(\"yyyy-mm-dd\")][\"date_published\"].head()"
   ]
  },
  {
   "cell_type": "markdown",
   "id": "f8922d61",
   "metadata": {},
   "source": [
    "Is `year` and `date_published` represents same data? (_deduplication_)"
   ]
  },
  {
   "cell_type": "code",
   "execution_count": null,
   "id": "7ae59a58",
   "metadata": {},
   "outputs": [],
   "source": [
    "date_check = pd.to_datetime(movies[\"date_published\"], errors=\"coerce\")\n",
    "date_diff = date_check.loc[date_check.dt.year != movies[\"year\"].astype(int, errors=\"raise\")]\n",
    "\n",
    "date_diff.shape[0]"
   ]
  },
  {
   "cell_type": "markdown",
   "id": "6d017ce7",
   "metadata": {},
   "source": [
    "Apparently not, let's peek some different items."
   ]
  },
  {
   "cell_type": "code",
   "execution_count": null,
   "id": "9da7d915",
   "metadata": {
    "scrolled": true
   },
   "outputs": [],
   "source": [
    "movies.iloc[date_diff.sample(5).index][[\"year\", \"date_published\"]]"
   ]
  },
  {
   "cell_type": "markdown",
   "id": "b1d5f135",
   "metadata": {},
   "source": [
    "Does financial columns (`budget`, `usa_gross_income`, `worlwide_gross_income`) all in USD, or any other currency?"
   ]
  },
  {
   "cell_type": "code",
   "execution_count": null,
   "id": "8b296682",
   "metadata": {},
   "outputs": [],
   "source": [
    "currency_check = movies.loc[~movies[\"budget\"].str.startswith((\"$\"), na=False)][\"budget\"].dropna()\n",
    "currency_check.sample(5)"
   ]
  },
  {
   "cell_type": "markdown",
   "id": "0d31ebaf",
   "metadata": {},
   "source": [
    "What are the currencies?"
   ]
  },
  {
   "cell_type": "code",
   "execution_count": null,
   "id": "2f048cd0",
   "metadata": {},
   "outputs": [],
   "source": [
    "foreign_currencies = set()"
   ]
  },
  {
   "cell_type": "code",
   "execution_count": null,
   "id": "04cd4cca",
   "metadata": {},
   "outputs": [],
   "source": [
    "foreign_currencies.update(currency_check.str.slice(0,3).unique().tolist())"
   ]
  },
  {
   "cell_type": "code",
   "execution_count": null,
   "id": "54256628",
   "metadata": {},
   "outputs": [],
   "source": [
    "currency_check = movies.loc[~movies[\"usa_gross_income\"].str.startswith((\"$\"), na=False)][\"usa_gross_income\"].dropna().sample(5)\n",
    "currency_check.sample(5)"
   ]
  },
  {
   "cell_type": "code",
   "execution_count": null,
   "id": "22e244bf",
   "metadata": {},
   "outputs": [],
   "source": [
    "foreign_currencies.update(currency_check.str.slice(0,3).unique().tolist())"
   ]
  },
  {
   "cell_type": "code",
   "execution_count": null,
   "id": "44bdb00a",
   "metadata": {},
   "outputs": [],
   "source": [
    "currency_check = movies.loc[~movies[\"worlwide_gross_income\"].str.startswith((\"$\"), na=False)][\n",
    "    \"worlwide_gross_income\"].dropna().sample(5)\n",
    "currency_check.sample(5)"
   ]
  },
  {
   "cell_type": "code",
   "execution_count": null,
   "id": "af74329d",
   "metadata": {},
   "outputs": [],
   "source": [
    "foreign_currencies.update(currency_check.str.slice(0,3).unique().tolist())"
   ]
  },
  {
   "cell_type": "markdown",
   "id": "bf755242",
   "metadata": {},
   "source": [
    "Get all foreign currencies"
   ]
  },
  {
   "cell_type": "code",
   "execution_count": null,
   "id": "ce821a8f",
   "metadata": {},
   "outputs": [],
   "source": [
    "len(foreign_currencies)"
   ]
  },
  {
   "cell_type": "markdown",
   "id": "76f5c730",
   "metadata": {},
   "source": [
    "### Analyze `names` dataset\n",
    "\n",
    "Quick peek for `names`. "
   ]
  },
  {
   "cell_type": "code",
   "execution_count": null,
   "id": "e04ec9ee",
   "metadata": {
    "scrolled": true
   },
   "outputs": [],
   "source": [
    "names.head()"
   ]
  },
  {
   "cell_type": "markdown",
   "id": "f83c9033",
   "metadata": {},
   "source": [
    "Let's check percentage of null values in each columnn (_cleaning_)"
   ]
  },
  {
   "cell_type": "code",
   "execution_count": null,
   "id": "9548f03e",
   "metadata": {},
   "outputs": [],
   "source": [
    "s = names.isnull().sum()/(len(names)) * 100\n",
    "s.where(s > 0).dropna().sort_values(ascending=False)"
   ]
  },
  {
   "cell_type": "markdown",
   "id": "0fe52f7c",
   "metadata": {},
   "source": [
    "Check duplicate value, use name id (_deduplication_)"
   ]
  },
  {
   "cell_type": "code",
   "execution_count": null,
   "id": "9cf31c7a",
   "metadata": {},
   "outputs": [],
   "source": [
    "names.duplicated(subset=[\"imdb_name_id\"]).sum()"
   ]
  },
  {
   "cell_type": "markdown",
   "id": "d586e2db",
   "metadata": {},
   "source": [
    "Find out possible repeating columns (_deduplication_)"
   ]
  },
  {
   "cell_type": "code",
   "execution_count": null,
   "id": "c27b2b12",
   "metadata": {},
   "outputs": [],
   "source": [
    "names.dtypes.sort_index()"
   ]
  },
  {
   "cell_type": "markdown",
   "id": "f0bf6249",
   "metadata": {},
   "source": [
    "Check if any column contains multiple values, hence violates 1NF (_key restructuring / splitting_).  \n",
    "Check if cell contains comma character."
   ]
  },
  {
   "cell_type": "code",
   "execution_count": null,
   "id": "65c69cf4",
   "metadata": {},
   "outputs": [],
   "source": [
    "for col in names:\n",
    "    if names[col].astype(str).str.contains(\",\", na=False).any():\n",
    "        print(col)"
   ]
  },
  {
   "cell_type": "markdown",
   "id": "8b415186",
   "metadata": {},
   "source": [
    "Why there's comma on `date_of_birth`? See the sample data (_data validation_)"
   ]
  },
  {
   "cell_type": "code",
   "execution_count": null,
   "id": "6c991306",
   "metadata": {},
   "outputs": [],
   "source": [
    "check_date = names.loc[names[\"date_of_birth\"].str\n",
    "                        .contains(\",\", na=False)][[\"place_of_birth\", \"birth_details\", \"date_of_birth\"]]\n",
    "check_date.sample(5)"
   ]
  },
  {
   "cell_type": "markdown",
   "id": "1e5ae029",
   "metadata": {},
   "source": [
    "Why there's comma on `date_of_death`? See the sample data (_data validation_)"
   ]
  },
  {
   "cell_type": "code",
   "execution_count": null,
   "id": "77faf851",
   "metadata": {},
   "outputs": [],
   "source": [
    "check_date = names.loc[names[\"date_of_death\"].str\n",
    "                        .contains(\",\", na=False)][[\"place_of_death\", \"death_details\", \"date_of_death\"]]\n",
    "check_date.sample(5)"
   ]
  },
  {
   "cell_type": "markdown",
   "id": "fc8208d3",
   "metadata": {},
   "source": [
    "From analyzing `movies`, we might need to create dedicated table for `director, writer, production_company, actors`, \n",
    "then later relate each with `movies`.  \n",
    "\n",
    "Let's check if they actually on dataset `names` already"
   ]
  },
  {
   "cell_type": "markdown",
   "id": "5a03afb3",
   "metadata": {},
   "source": [
    "### `movies` director vs `names`\n",
    "\n",
    "There are name fields on `movies`, and we also has `names` dataset. Are they the same? (_key restructuring / data validation_)"
   ]
  },
  {
   "cell_type": "code",
   "execution_count": null,
   "id": "7c1ca244",
   "metadata": {},
   "outputs": [],
   "source": [
    "name_list = [i for i in names[\"name\"].tolist() if i]"
   ]
  },
  {
   "cell_type": "code",
   "execution_count": null,
   "id": "aaac1033",
   "metadata": {},
   "outputs": [],
   "source": [
    "col = \"director\""
   ]
  },
  {
   "cell_type": "code",
   "execution_count": null,
   "id": "d4549460",
   "metadata": {},
   "outputs": [],
   "source": [
    "print(\"{} name in names : {}\"\n",
    "      .format(col, movies.loc[movies[col].str.title()\n",
    "                         .isin([x.title().strip() for x in name_list])]\n",
    "              .shape[0]))\n",
    "print(\"{} name not in names : {}\"\n",
    "      .format(col, movies.loc[~movies[col].str.title()\n",
    "                         .isin([x.title().strip() for x in name_list])]\n",
    "              .shape[0]))"
   ]
  },
  {
   "cell_type": "code",
   "execution_count": null,
   "id": "095c5434",
   "metadata": {},
   "outputs": [],
   "source": [
    "movies.loc[~movies[col].str.title()\n",
    "           .isin([x.title().strip() for x in name_list])][col].head()"
   ]
  },
  {
   "cell_type": "code",
   "execution_count": null,
   "id": "3a7daedd",
   "metadata": {},
   "outputs": [],
   "source": [
    "names_from_comma = set()\n",
    "for idx, val in movies.loc[~movies[col].str.title()\n",
    "           .isin([x.title().strip() for x in name_list])][col].str.split(\",\").items():\n",
    "    try:\n",
    "        title_names = [str.title().strip() for str in val]\n",
    "        names_from_comma.update(title_names)\n",
    "    except Exception as e:\n",
    "        pass"
   ]
  },
  {
   "cell_type": "code",
   "execution_count": null,
   "id": "380de63b",
   "metadata": {},
   "outputs": [],
   "source": [
    "names_diff = set()"
   ]
  },
  {
   "cell_type": "code",
   "execution_count": null,
   "id": "66bbd590",
   "metadata": {},
   "outputs": [],
   "source": [
    "names_diff = names_from_comma - set([x.title().strip() for x in name_list])\n",
    "len(names_diff)"
   ]
  },
  {
   "cell_type": "markdown",
   "id": "78da2615",
   "metadata": {},
   "source": [
    "### `movies` writer vs `names`\n",
    "\n",
    "There are name fields on `movies`, and we also has `names` dataset. Are they the same? (_key restructuring / data validation_)"
   ]
  },
  {
   "cell_type": "code",
   "execution_count": null,
   "id": "addc9bdb",
   "metadata": {},
   "outputs": [],
   "source": [
    "col = \"writer\""
   ]
  },
  {
   "cell_type": "code",
   "execution_count": null,
   "id": "697961d6",
   "metadata": {},
   "outputs": [],
   "source": [
    "print(\"{} name in names : {}\"\n",
    "      .format(col, movies.loc[movies[col].str.title().str.strip()\n",
    "                         .isin([x.title().strip() for x in name_list])]\n",
    "              .shape[0]))\n",
    "print(\"{} name not in names : {}\"\n",
    "      .format(col, movies.loc[~movies[col].str.title().str.strip()\n",
    "                         .isin([x.title().strip() for x in name_list])]\n",
    "              .shape[0]))"
   ]
  },
  {
   "cell_type": "code",
   "execution_count": null,
   "id": "c64c6278",
   "metadata": {},
   "outputs": [],
   "source": [
    "movies.loc[~movies[col].str.title().str.strip()\n",
    "           .isin([x.title().strip() for x in name_list])][col].head()"
   ]
  },
  {
   "cell_type": "code",
   "execution_count": null,
   "id": "ad4bee87",
   "metadata": {},
   "outputs": [],
   "source": [
    "names_from_comma = set()\n",
    "for idx, val in movies.loc[~movies[col].str.title().str.strip()\n",
    "           .isin([x.title().strip() for x in name_list])][col].str.split(\",\").items():\n",
    "    try:\n",
    "        title_names = [str.title().strip() for str in val]\n",
    "        names_from_comma.update(title_names)\n",
    "    except Exception as e:\n",
    "        pass\n",
    "\n",
    "names_from_comma"
   ]
  },
  {
   "cell_type": "code",
   "execution_count": null,
   "id": "a5c3e8ef",
   "metadata": {},
   "outputs": [],
   "source": [
    "names_diff.update(names_from_comma - set([x.title().strip() for x in name_list]))\n",
    "len(names_diff)"
   ]
  },
  {
   "cell_type": "markdown",
   "id": "034f407f",
   "metadata": {},
   "source": [
    "### `movies` production company vs `names`\n",
    "\n",
    "There are name fields on `movies`, and we also has `names` dataset. Are they the same? (_key restructuring / data validation_)"
   ]
  },
  {
   "cell_type": "code",
   "execution_count": null,
   "id": "7afa2117",
   "metadata": {},
   "outputs": [],
   "source": [
    "col = \"production_company\""
   ]
  },
  {
   "cell_type": "code",
   "execution_count": null,
   "id": "e997f4cf",
   "metadata": {},
   "outputs": [],
   "source": [
    "print(\"{} name in names : {}\"\n",
    "      .format(col, movies.loc[movies[col].str.title().str.strip()\n",
    "                         .isin([x.title().strip() for x in name_list])]\n",
    "              .shape[0]))\n",
    "print(\"{} name not in names : {}\"\n",
    "      .format(col, movies.loc[~movies[col].str.title().str.strip()\n",
    "                         .isin([x.title().strip() for x in name_list])]\n",
    "              .shape[0]))"
   ]
  },
  {
   "cell_type": "markdown",
   "id": "9020e80d",
   "metadata": {},
   "source": [
    "That's a lot of difference, but make sense since `production_company` is not person, unlike `director, writer, or actors`.\n",
    "Hence, we will not use dataframe `names` as master for `production_company`."
   ]
  },
  {
   "cell_type": "markdown",
   "id": "381845be",
   "metadata": {},
   "source": [
    "### `movies` actors vs `names`\n",
    "\n",
    "There are name fields on `movies`, and we also has `names` dataset. Are they the same? (_key restructuring / data validation_)"
   ]
  },
  {
   "cell_type": "code",
   "execution_count": null,
   "id": "b8b794fb",
   "metadata": {},
   "outputs": [],
   "source": [
    "col = \"actors\""
   ]
  },
  {
   "cell_type": "code",
   "execution_count": null,
   "id": "acacaa44",
   "metadata": {},
   "outputs": [],
   "source": [
    "print(\"{} name in names : {}\"\n",
    "      .format(col, movies.loc[movies[col].str.title().str.strip()\n",
    "                         .isin([x.title().strip() for x in name_list])]\n",
    "              .shape[0]))\n",
    "print(\"{} name not in names : {}\"\n",
    "      .format(col, movies.loc[~movies[col].str.title().str.strip()\n",
    "                         .isin([x.title().strip() for x in name_list])]\n",
    "              .shape[0]))"
   ]
  },
  {
   "cell_type": "code",
   "execution_count": null,
   "id": "0d8a389f",
   "metadata": {},
   "outputs": [],
   "source": [
    "movies.loc[~movies[col].str.title().str.strip()\n",
    "           .isin([x.title().strip() for x in name_list])][col].head()"
   ]
  },
  {
   "cell_type": "code",
   "execution_count": null,
   "id": "080b41bf",
   "metadata": {},
   "outputs": [],
   "source": [
    "names_from_comma = set()\n",
    "for idx, val in movies.loc[~movies[col].str.title().str.strip()\n",
    "           .isin([x.title().strip() for x in name_list])][col].str.split(\",\").items():\n",
    "    try:\n",
    "        title_names = [str.title().strip() for str in val]\n",
    "        names_from_comma.update(title_names)\n",
    "    except Exception as e:\n",
    "        pass\n",
    "\n",
    "len(names_from_comma)"
   ]
  },
  {
   "cell_type": "code",
   "execution_count": null,
   "id": "a29e4474",
   "metadata": {},
   "outputs": [],
   "source": [
    "names_diff.update(names_from_comma - set([x.title().strip() for x in name_list]))"
   ]
  },
  {
   "cell_type": "markdown",
   "id": "f549247f",
   "metadata": {},
   "source": [
    "Total name from movies that not exists on names dataset"
   ]
  },
  {
   "cell_type": "code",
   "execution_count": null,
   "id": "3b7f3264",
   "metadata": {},
   "outputs": [],
   "source": [
    "print(\"Total name difference (movies vs name) : {} data\".format(len(names_diff)))"
   ]
  },
  {
   "cell_type": "markdown",
   "id": "b698e456",
   "metadata": {},
   "source": [
    "### Analyze `ratings` dataset\n",
    "\n",
    "Quick peek for `ratings`."
   ]
  },
  {
   "cell_type": "code",
   "execution_count": null,
   "id": "f76f72a7",
   "metadata": {},
   "outputs": [],
   "source": [
    "ratings.head()"
   ]
  },
  {
   "cell_type": "markdown",
   "id": "1cd56483",
   "metadata": {},
   "source": [
    "Let's check percentage of null values in each columnn (_cleaning_)"
   ]
  },
  {
   "cell_type": "code",
   "execution_count": null,
   "id": "1218945a",
   "metadata": {},
   "outputs": [],
   "source": [
    "s = ratings.isnull().sum()/(len(ratings)) * 100\n",
    "s.where(s > 0).dropna().sort_values(ascending=False)"
   ]
  },
  {
   "cell_type": "markdown",
   "id": "02f427fc",
   "metadata": {},
   "source": [
    "Check duplicate value, using title id (_deduplication_)"
   ]
  },
  {
   "cell_type": "code",
   "execution_count": null,
   "id": "8232739c",
   "metadata": {},
   "outputs": [],
   "source": [
    "ratings.duplicated(subset=[\"imdb_title_id\"]).sum()"
   ]
  },
  {
   "cell_type": "markdown",
   "id": "9518f1eb",
   "metadata": {},
   "source": [
    "Find out possible repeating columns (_deduplication_)"
   ]
  },
  {
   "cell_type": "code",
   "execution_count": null,
   "id": "6ac13c39",
   "metadata": {},
   "outputs": [],
   "source": [
    "ratings.dtypes.sort_index()"
   ]
  },
  {
   "cell_type": "markdown",
   "id": "b8e64a85",
   "metadata": {},
   "source": [
    "Check if any column contains multiple values, hence violates 1NF (_key restructuring / splitting_).  \n",
    "Check if cell contains comma character."
   ]
  },
  {
   "cell_type": "code",
   "execution_count": null,
   "id": "40aa3f9d",
   "metadata": {},
   "outputs": [],
   "source": [
    "for col in ratings:\n",
    "    if ratings[col].astype(str).str.contains(\",\", na=False).any():\n",
    "        print(col)"
   ]
  },
  {
   "cell_type": "markdown",
   "id": "d6206bf5",
   "metadata": {},
   "source": [
    "Avoid data inconsistency.  \n",
    "Let's check whether `total_votes` is sum of `votes_10, votes_9, ...` (_data validation_)"
   ]
  },
  {
   "cell_type": "code",
   "execution_count": null,
   "id": "90212f83",
   "metadata": {},
   "outputs": [],
   "source": [
    "ratings.loc[ratings[\"total_votes\"].astype(int) != \n",
    "            ratings[\"votes_1\"].astype(int) + ratings[\"votes_2\"].astype(int) \n",
    "            + ratings[\"votes_3\"].astype(int) + ratings[\"votes_4\"].astype(int)\n",
    "            + ratings[\"votes_5\"].astype(int) + ratings[\"votes_6\"].astype(int)\n",
    "            + ratings[\"votes_7\"].astype(int) + ratings[\"votes_8\"].astype(int) \n",
    "            + ratings[\"votes_9\"].astype(int) + ratings[\"votes_10\"].astype(int)]"
   ]
  },
  {
   "cell_type": "markdown",
   "id": "b2bd3de7",
   "metadata": {},
   "source": [
    "### Analyze `title_principals` dataset\n",
    "\n",
    "Quick peek for `title_principals`."
   ]
  },
  {
   "cell_type": "code",
   "execution_count": null,
   "id": "da399621",
   "metadata": {
    "scrolled": true
   },
   "outputs": [],
   "source": [
    "title_principals.head()"
   ]
  },
  {
   "cell_type": "markdown",
   "id": "ea2a3a04",
   "metadata": {},
   "source": [
    "Seems like many-to-many join table between movies and names."
   ]
  },
  {
   "cell_type": "markdown",
   "id": "c9ae398a",
   "metadata": {},
   "source": [
    "Let's check percentage of null values in each columnn (_cleaning_)"
   ]
  },
  {
   "cell_type": "code",
   "execution_count": null,
   "id": "68864b6a",
   "metadata": {},
   "outputs": [],
   "source": [
    "s = title_principals.isnull().sum()/(len(title_principals)) * 100\n",
    "s.where(s > 0).dropna().sort_values(ascending=False)"
   ]
  },
  {
   "cell_type": "markdown",
   "id": "4703dfe8",
   "metadata": {},
   "source": [
    "What is actually in `job`?"
   ]
  },
  {
   "cell_type": "code",
   "execution_count": null,
   "id": "12bb29f6",
   "metadata": {},
   "outputs": [],
   "source": [
    "title_principals.loc[title_principals[\"job\"].notnull()][\"job\"].value_counts()"
   ]
  },
  {
   "cell_type": "markdown",
   "id": "34cf9e46",
   "metadata": {},
   "source": [
    "What is actually in `characters`?"
   ]
  },
  {
   "cell_type": "code",
   "execution_count": null,
   "id": "20c71bab",
   "metadata": {},
   "outputs": [],
   "source": [
    "title_principals.loc[title_principals[\"characters\"].notnull()][\"characters\"].value_counts()"
   ]
  },
  {
   "cell_type": "markdown",
   "id": "6624d92a",
   "metadata": {},
   "source": [
    "Check duplicate value, using title id and name id (_deduplication_)"
   ]
  },
  {
   "cell_type": "code",
   "execution_count": null,
   "id": "37959ad7",
   "metadata": {},
   "outputs": [],
   "source": [
    "title_principals.duplicated(subset=[\"imdb_title_id\", \"imdb_name_id\", \"category\", \"job\", \"characters\"]).sum()"
   ]
  },
  {
   "cell_type": "markdown",
   "id": "a5fb8ec0",
   "metadata": {},
   "source": [
    "Find out possible repeating columns (_deduplication_)"
   ]
  },
  {
   "cell_type": "code",
   "execution_count": null,
   "id": "915bc4da",
   "metadata": {},
   "outputs": [],
   "source": [
    "title_principals.dtypes.sort_index()"
   ]
  },
  {
   "cell_type": "markdown",
   "id": "25718854",
   "metadata": {},
   "source": [
    "Check if any column contains multiple values, hence violates 1NF (_key restructuring / splitting_).  \n",
    "Check if cell contains comma character."
   ]
  },
  {
   "cell_type": "code",
   "execution_count": null,
   "id": "e8108ae3",
   "metadata": {},
   "outputs": [],
   "source": [
    "for col in title_principals:\n",
    "    if title_principals[col].astype(str).str.contains(\",\", na=False).any():\n",
    "        print(col)"
   ]
  },
  {
   "cell_type": "markdown",
   "id": "3c39bace",
   "metadata": {},
   "source": [
    "See sample data for `job`, which has comma. Is it multiple values? (_key restructuring / splitting_)"
   ]
  },
  {
   "cell_type": "code",
   "execution_count": null,
   "id": "81b6b94b",
   "metadata": {},
   "outputs": [],
   "source": [
    "title_principals.loc[title_principals[\"job\"].astype(str)\n",
    "                     .str.contains(\",\", na=False)][\"job\"].head()"
   ]
  },
  {
   "cell_type": "markdown",
   "id": "cc4d1721",
   "metadata": {},
   "source": [
    "See sample data for `characters`, which has comma. Is it multiple values? (_key restructuring / splitting_)"
   ]
  },
  {
   "cell_type": "code",
   "execution_count": null,
   "id": "a0f73e0e",
   "metadata": {},
   "outputs": [],
   "source": [
    "ser_characters = title_principals.loc[title_principals[\"characters\"].astype(str)\n",
    "                                      .str.contains(\",\", na=False)][\"characters\"]\n",
    "ser_characters.head()"
   ]
  },
  {
   "cell_type": "markdown",
   "id": "6abedbd9",
   "metadata": {},
   "source": [
    "Is this regular string, or list? If this a string, we need to transform it later into list."
   ]
  },
  {
   "cell_type": "code",
   "execution_count": null,
   "id": "e50dd649",
   "metadata": {},
   "outputs": [],
   "source": [
    "pd.api.types.is_string_dtype(ser_characters)"
   ]
  },
  {
   "cell_type": "markdown",
   "id": "d06102ea",
   "metadata": {},
   "source": [
    "Check whether all titles available on `movies`"
   ]
  },
  {
   "cell_type": "code",
   "execution_count": null,
   "id": "f1f89942",
   "metadata": {},
   "outputs": [],
   "source": [
    "set(title_principals[\"imdb_title_id\"].tolist()) - set(movies[\"imdb_title_id\"].tolist())"
   ]
  },
  {
   "cell_type": "markdown",
   "id": "2de45b44",
   "metadata": {},
   "source": [
    "Check whether all name available on `names`"
   ]
  },
  {
   "cell_type": "code",
   "execution_count": null,
   "id": "a9a624dd",
   "metadata": {},
   "outputs": [],
   "source": [
    "set(title_principals[\"imdb_name_id\"].tolist()) - set(names[\"imdb_name_id\"].tolist())"
   ]
  },
  {
   "cell_type": "markdown",
   "id": "5b8b1e26",
   "metadata": {},
   "source": [
    "### Analyze `movie_details` dataset\n",
    "\n",
    "Quick peek for `movie_details`."
   ]
  },
  {
   "cell_type": "code",
   "execution_count": null,
   "id": "c2ad27cb",
   "metadata": {},
   "outputs": [],
   "source": [
    "movie_details.head()"
   ]
  },
  {
   "cell_type": "markdown",
   "id": "6c02c497",
   "metadata": {},
   "source": [
    "Let's check percentage of null values in each columnn (_cleaning_)"
   ]
  },
  {
   "cell_type": "code",
   "execution_count": null,
   "id": "499e047d",
   "metadata": {},
   "outputs": [],
   "source": [
    "s = movie_details.isnull().sum()/(len(movie_details)) * 100\n",
    "s.where(s > 0).dropna().sort_values(ascending=False)"
   ]
  },
  {
   "cell_type": "markdown",
   "id": "3f639bc6",
   "metadata": {},
   "source": [
    "Check duplicate value, use title id (_deduplication_)"
   ]
  },
  {
   "cell_type": "code",
   "execution_count": null,
   "id": "a7e78cdc",
   "metadata": {},
   "outputs": [],
   "source": [
    "movie_details.duplicated(subset=[\"movie_id\"]).sum()"
   ]
  },
  {
   "cell_type": "markdown",
   "id": "0734ddf7",
   "metadata": {},
   "source": [
    "Find out possible repeating columns (_key restructuring_)"
   ]
  },
  {
   "cell_type": "code",
   "execution_count": null,
   "id": "8688149a",
   "metadata": {},
   "outputs": [],
   "source": [
    "movie_details.dtypes.sort_index()"
   ]
  },
  {
   "cell_type": "markdown",
   "id": "0d542a64",
   "metadata": {},
   "source": [
    "Check if any column contains multiple values, hence violates 1NF (_key restructuring / splitting_).  \n",
    "Check if cell contains comma character."
   ]
  },
  {
   "cell_type": "code",
   "execution_count": null,
   "id": "c58125d1",
   "metadata": {},
   "outputs": [],
   "source": [
    "for col in movie_details:\n",
    "    if movie_details[col].astype(str).str.contains(\",\", na=False).any():\n",
    "        print(col)"
   ]
  },
  {
   "cell_type": "markdown",
   "id": "ecbdba4c",
   "metadata": {},
   "source": [
    "Let's check the values"
   ]
  },
  {
   "cell_type": "code",
   "execution_count": null,
   "id": "24c410af",
   "metadata": {},
   "outputs": [],
   "source": [
    "movie_details[[\"genre\", \"plot_summary\", \"plot_synopsis\"]]"
   ]
  },
  {
   "cell_type": "markdown",
   "id": "fa73f50c",
   "metadata": {},
   "source": [
    "The genre should not relevant, we will take genre from `movies` dataframe"
   ]
  },
  {
   "cell_type": "markdown",
   "id": "aa36c75a",
   "metadata": {},
   "source": [
    "### Analyze `reviews` dataset\n",
    "\n",
    "Quick peek for `reviews`."
   ]
  },
  {
   "cell_type": "code",
   "execution_count": null,
   "id": "4b0818d8",
   "metadata": {},
   "outputs": [],
   "source": [
    "reviews.head()"
   ]
  },
  {
   "cell_type": "markdown",
   "id": "46eb7649",
   "metadata": {},
   "source": [
    "The `reviews` seems OK. Duplicated movie_id is fine, and the other fields seems OK. The only catch, is that we need to process `review_date` which currently full string."
   ]
  },
  {
   "cell_type": "markdown",
   "id": "2f61c8a5",
   "metadata": {},
   "source": [
    "## End analyze. Let's check what we have"
   ]
  },
  {
   "cell_type": "markdown",
   "id": "586d3391",
   "metadata": {},
   "source": [
    "### `movies` analysis\n",
    "**Good**\n",
    "- No duplicate values\n",
    "- No repeating columns\n",
    "\n",
    "**Not so good (need transform)**\n",
    "- Null values found on these columns, let's define the default value, or just left to null\n",
    "  + `description` : leave as is (keep null)\n",
    "  + `metascore` : default to 0\n",
    "  + `usa_gross_income` : default to `$ 0` (maintain data type consistency as string, so use this instead of numeric 0)\n",
    "  + `budget` : default to `$ 0` (maintain data type consistency as string, so use this instead of numeric 0)\n",
    "  + `worlwide_gross_income` : default to `$ 0` (maintain data type consistency as string, so use this instead of numeric 0)\n",
    "  + `reviews_from_critics` : default to 0\n",
    "  + `reviews_from_users` : default to 0\n",
    "  + `production_company` : default to `Unknown`\n",
    "  + `writer` : default to `Unknown`\n",
    "  + `language` : default to `Unknown`\n",
    "  + `director` : default to `Unknown`\n",
    "  + `actors` : default to `Unknown`\n",
    "  + `country` : default to `Unknown`\n",
    "- Multiple values in cell (based on comma character)\n",
    "  + `title` : OK to have comma in this field, so it's a single value\n",
    "  + `original_title` : OK to have comma in this field, so it's a single value\n",
    "  + `description` : OK to have comma in this field, so it's a single value\n",
    "  + `genre` : needs to be separated to different table(s) to achieve 1NF, will put this on generic lookup table\n",
    "  + `country` : needs to be separated to different table(s) to achieve 1NF, will put this on generic lookup table\n",
    "  + `language` : needs to be separated to different table(s) to achieve 1NF, will put this on generic lookup table\n",
    "  + `director` : needs to be separated to different table(s) to achieve 1NF\n",
    "  + `writer` : needs to be separated to different table(s) to achieve 1NF\n",
    "  + `production_company` : needs to be separated to different table(s) to achieve 1NF\n",
    "  + `actors` : needs to be separated to different table(s) to achieve 1NF\n",
    "- `date_published` and year can have different value (year on `date_published` vs year on raw data)\n",
    "- Need to convert foreign currencies on `budget`, `usa_gross_income`, and `worlwide_gross_income` to **USD**"
   ]
  },
  {
   "cell_type": "markdown",
   "id": "c1e10ed7",
   "metadata": {},
   "source": [
    "### `names` analysis\n",
    "**Good**\n",
    "- No duplicate values\n",
    "- No repeating columns\n",
    "\n",
    "**Not so good (need transform)**\n",
    "- Null values found on these columns, let's define the default value, or just left to null\n",
    "    + `reason_of_death` : leave as is (keep null)\n",
    "    + `place_of_death` : leave as is (keep null)\n",
    "    + `death_details` : leave as is (keep null)\n",
    "    + `date_of_death` : leave as is (keep null)\n",
    "    + `height` : leave as is (keep null)\n",
    "    + `birth_details` : leave as is (keep null)\n",
    "    + `date_of_birth` : leave as is (keep null)\n",
    "    + `bio` : leave as is (keep null)\n",
    "    + `place_of_birth` : default to `Unknown`\n",
    "    + `spouses_string` : default to `Unknown`\n",
    "- Multiple values in cell (based on comma character)\n",
    "    + `name` : OK to have comma in this field, so it's a single value\n",
    "    + `birth_name` : OK to have comma in this field, so it's a single value\n",
    "    + `bio` : OK to have comma in this field, so it's a single value\n",
    "    + `birth_details` : OK to have comma in this field, so it's a single value\n",
    "    + `place_of_birth` : OK to have comma in this field, so it's a single value\n",
    "    + `death_details` : OK to have comma in this field, so it's a single value\n",
    "    + `place_of_death` : OK to have comma in this field, so it's a single value\n",
    "    + `reason_of_death` : OK to have comma in this field, so it's a single value\n",
    "    + `spouses_string` : consider as descriptive value in this demo, so it's OK to contains comma (not considered as multiple values)\n",
    "    + `date_of_birth` : we need to extract year from this field, then just default it to 1-January using extracted year\n",
    "    + `date_of_death` : we need to extract year from this field, then just default it to 1-January using extracted year\n",
    "- A lot of names appears on `movies`, but not on `names`. We must insert those difference into `names`, just use default data for the fields other than name:\n",
    "    + `imdb_name_id` : use `xx` and 7 digits sequence number\n",
    "    + `name` : known name from our checking\n",
    "    + `birth_name` : known name from our checking \n",
    "    + `height` : null\n",
    "    + `bio` : null\n",
    "    + `birth_details` : null\n",
    "    + `date_of_birth` : null\n",
    "    + `place_of_birth` : `Unknown`\n",
    "    + `death_details` : null\n",
    "    + `date_of_death` : null\n",
    "    + `place_of_death` : null\n",
    "    + `reason_of_death` : null\n",
    "    + `spouses_string` : `Unknown`\n",
    "    + `spouses` : null\n",
    "    + `divorces` : null\n",
    "    + `spouses_with_children` : null\n",
    "    + `children` : null"
   ]
  },
  {
   "cell_type": "markdown",
   "id": "5ba5d936",
   "metadata": {},
   "source": [
    "### `ratings` analysis\n",
    "**Good**\n",
    "- No duplicate values\n",
    "- No repeating columns\n",
    "- The `total_votes` is exact sum of all `votes_x`\n",
    "\n",
    "**Not so good (need transform)**\n",
    "- Null values found on these columns, let's define the default value, or just left to null\n",
    "    + `females_0age_votes` : default to 0\n",
    "    + `females_0age_avg_vote` : default to 0\n",
    "    + `males_0age_votes` : default to 0\n",
    "    + `males_0age_avg_vote` : default to 0\n",
    "    + `allgenders_0age_votes` : default to 0\n",
    "    + `allgenders_0age_avg_vote` : default to 0\n",
    "    + `females_18age_votes` : default to 0\n",
    "    + `females_18age_avg_vote` : default to 0\n",
    "    + `females_45age_votes` : default to 0\n",
    "    + `females_45age_avg_vote` : default to 0\n",
    "    + `males_18age_avg_vote` : default to 0\n",
    "    + `males_18age_votes` : default to 0\n",
    "    + `females_30age_votes` : default to 0\n",
    "    + `females_30age_avg_vote` : default to 0\n",
    "    + `allgenders_18age_votes` : default to 0\n",
    "    + `allgenders_18age_avg_vote` : default to 0\n",
    "    + `top1000_voters_votes` : default to 0\n",
    "    + `top1000_voters_rating` : default to 0\n",
    "    + `us_voters_votes` : default to 0\n",
    "    + `us_voters_rating` : default to 0\n",
    "    + `males_45age_votes` : default to 0\n",
    "    + `males_45age_avg_vote` : default to 0\n",
    "    + `females_allages_votes` : default to 0\n",
    "    + `females_allages_avg_vote` : default to 0\n",
    "    + `allgenders_45age_votes` : default to 0\n",
    "    + `allgenders_45age_avg_vote` : default to 0\n",
    "    + `males_30age_votes` : default to 0\n",
    "    + `males_30age_avg_vote` : default to 0\n",
    "    + `allgenders_30age_votes` : default to 0\n",
    "    + `allgenders_30age_avg_vote` : default to 0\n",
    "    + `males_allages_votes` : default to 0\n",
    "    + `males_allages_avg_vote` : default to 0\n",
    "    + `non_us_voters_rating` : default to 0\n",
    "    + `non_us_voters_votes` : default to 0"
   ]
  },
  {
   "cell_type": "markdown",
   "id": "9ec00d28",
   "metadata": {},
   "source": [
    "### `title_principals` analysis\n",
    "**Good**\n",
    "- No repeating columns\n",
    "\n",
    "**Not so good (need transform)**\n",
    "- Null values found on these columns, let's define the default value, or just left to null\n",
    "    + `category` : keep null, a person can only in `category / job / characters`\n",
    "    + `job` : keep null, a person can only in `category / job / characters`\n",
    "    + `characters` : keep null, a person can only in `category / job / characters`\n",
    "- Multiple values in cell (based on comma character)\n",
    "  + `job` : keep as is, the comma is part of the value\n",
    "  + `characters` : one person can play multi characters in one movie, so we need to convert this string into list of characters\n",
    "- Two values missing from `movies` : _'tt1860336', 'tt2082513'_"
   ]
  },
  {
   "cell_type": "markdown",
   "id": "be8d7df5",
   "metadata": {},
   "source": [
    "### `movie_details` analysis\n",
    "We will only process `movie_id`, `plot_summary`, `plot_synopsys`\n",
    "\n",
    "**Good**\n",
    "- Required fields are free text, so just take them as-is\n",
    "\n",
    "**Not so good (need transform)**\n",
    "- None"
   ]
  },
  {
   "cell_type": "markdown",
   "id": "51675548",
   "metadata": {},
   "source": [
    "### `reviews` analysis\n",
    "We will process `is_spoiler`, `movie_id`, `review_date`, `review_summary`, `review_text`, `user_id`\n",
    "\n",
    "**Good**\n",
    "- Required fields are boolean or free text, so just take them as-is\n",
    "\n",
    "**Not so good (need transform)**\n",
    "- Transform `is_spoiler` into boolean data type\n",
    "- Transform `review_date` into date data type"
   ]
  },
  {
   "cell_type": "markdown",
   "id": "c3d60313",
   "metadata": {},
   "source": [
    "----\n",
    "\n",
    "## Tables & Relationships\n",
    "### Core entities\n",
    "- From `movies` : table `movies`\n",
    "- From `names` : table `people` (list of directors, actors, writers, ...)\n",
    "- From `ratings` : table `movie_numeric_votes` (from `votes_xx` field) and table `movie_avg_votes` \n",
    "(from `xxx_rating` and `xxx_votes` where `xxx_rating` is the average score, while `xxx_votes` is the vote count)\n",
    "\n",
    "### Lookups\n",
    "In denormalized data warehouse, we will not use lookups to avoid joins. Since we use BigQuery, we can store array of values as data type in one field, and we will use it.\n",
    "\n",
    "### Relationships\n",
    "- many-to-many from `movies` to lookup table (for `genre`, `country`, and `language`)\n",
    "- many-to-many from `movies` to `people` (for director, writers, and actors)\n",
    "- one-to-many from `movies` to `movie_numeric_votes` and `movie_avg_votes`\n",
    "- one-to-one from `movies` to `movie_details`\n",
    "- one-to-many from `movie_details` to `reviews`"
   ]
  }
 ],
 "metadata": {
  "kernelspec": {
   "display_name": "Python 3 (ipykernel)",
   "language": "python",
   "name": "python3"
  },
  "language_info": {
   "codemirror_mode": {
    "name": "ipython",
    "version": 3
   },
   "file_extension": ".py",
   "mimetype": "text/x-python",
   "name": "python",
   "nbconvert_exporter": "python",
   "pygments_lexer": "ipython3",
   "version": "3.9.7"
  }
 },
 "nbformat": 4,
 "nbformat_minor": 5
}
